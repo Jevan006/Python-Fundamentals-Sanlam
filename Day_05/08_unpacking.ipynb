{
 "cells": [
  {
   "cell_type": "markdown",
   "metadata": {},
   "source": [
    "# Multiple variable assignment"
   ]
  },
  {
   "cell_type": "code",
   "execution_count": 1,
   "metadata": {},
   "outputs": [
    {
     "name": "stdout",
     "output_type": "stream",
     "text": [
      "0 0 0\n"
     ]
    }
   ],
   "source": [
    "a = 0\n",
    "b = 0\n",
    "c = 0\n",
    "\n",
    "print (a, b, c)"
   ]
  },
  {
   "cell_type": "code",
   "execution_count": 2,
   "metadata": {},
   "outputs": [
    {
     "name": "stdout",
     "output_type": "stream",
     "text": [
      "10 10 10\n"
     ]
    }
   ],
   "source": [
    "a = b = c = 10\n",
    "\n",
    "print (a, b, c)\n"
   ]
  },
  {
   "cell_type": "code",
   "execution_count": 3,
   "metadata": {},
   "outputs": [
    {
     "name": "stdout",
     "output_type": "stream",
     "text": [
      "(10, 15, 20) (10, 15, 20) (10, 15, 20)\n"
     ]
    }
   ],
   "source": [
    "# Unpacking\n",
    "\n",
    "a = b = c = 10, 15, 20   # Tuple\n",
    "\n",
    "print(a, b, c)\n"
   ]
  },
  {
   "cell_type": "code",
   "execution_count": null,
   "metadata": {},
   "outputs": [
    {
     "name": "stdout",
     "output_type": "stream",
     "text": [
      "(10, 15, 20) (10, 15, 20) (10, 15, 20)\n"
     ]
    }
   ],
   "source": [
    "a, b, c = (10, 15, 20)  # Tuple\n",
    "\n",
    "print(a, b, c)\n"
   ]
  },
  {
   "cell_type": "code",
   "execution_count": 6,
   "metadata": {},
   "outputs": [
    {
     "name": "stdout",
     "output_type": "stream",
     "text": [
      "10 15 20\n"
     ]
    }
   ],
   "source": [
    "a, b, c = [10, 15, 20]   # List\n",
    "\n",
    "print(a, b, c)\n"
   ]
  },
  {
   "cell_type": "code",
   "execution_count": null,
   "metadata": {},
   "outputs": [],
   "source": [
    "# Skip b\n",
    "\n",
    "a, _, c = [10, 15, 20]\n",
    "print(a,c)"
   ]
  },
  {
   "cell_type": "code",
   "execution_count": 7,
   "metadata": {},
   "outputs": [
    {
     "name": "stdout",
     "output_type": "stream",
     "text": [
      "80 95 [90, 70, 45]\n"
     ]
    }
   ],
   "source": [
    "# Bettter way to skip\n",
    "\n",
    "m1, *t1, m2 = [80, 90, 70, 45, 95]  # * -> unpacking operator\n",
    "print(m1, m2, t1)"
   ]
  },
  {
   "cell_type": "code",
   "execution_count": 9,
   "metadata": {},
   "outputs": [
    {
     "name": "stdout",
     "output_type": "stream",
     "text": [
      "🙍‍♂️Batman ['🙍\\u200d♂️ Superman', '👨\\u200d🦳Joker', '🥷Harley']\n"
     ]
    }
   ],
   "source": [
    "c1, *c2 = (\"🙍‍♂️Batman\", \"🙍‍♂️ Superman\", \"👨‍🦳Joker\", \"🥷Harley\")\n",
    "print(c1, c2)"
   ]
  },
  {
   "cell_type": "code",
   "execution_count": 8,
   "metadata": {},
   "outputs": [
    {
     "name": "stdout",
     "output_type": "stream",
     "text": [
      "80 90 70\n"
     ]
    }
   ],
   "source": [
    "marks = [80, 90, 70]\n",
    "m1, m2, m3 = marks\n",
    "print(m1, m2, m3)"
   ]
  },
  {
   "cell_type": "code",
   "execution_count": null,
   "metadata": {},
   "outputs": [],
   "source": [
    "## Task 1.1 (without unpacking)\n",
    "\n",
    "points = [(3, 4), (6, 12), (10,13)]\n",
    "\n",
    "# Expected Output\n",
    "# distances = [5.0, 13.42, 16.4]\n"
   ]
  },
  {
   "cell_type": "code",
   "execution_count": null,
   "metadata": {},
   "outputs": [
    {
     "name": "stdout",
     "output_type": "stream",
     "text": [
      "[5.0, 13.42, 16.4]\n"
     ]
    }
   ],
   "source": [
    "# Answer Task 1.1\n",
    "\n",
    "# Given list of points\n",
    "points = [(3, 4), (6, 12), (10, 13)]\n",
    "distances = []\n",
    "\n",
    "# Loop without unpacking\n",
    "for point in points:\n",
    "    x = point[0]  # Access x-coordinate\n",
    "    y = point[1]  # Access y-coordinate\n",
    "    distance = round((x**2 + y**2) ** 0.5, 2)  # Square root using exponentiation, # Round to 2 decimal places\n",
    "\n",
    "    distances.append(distance)\n",
    "print(distances)\n"
   ]
  },
  {
   "cell_type": "code",
   "execution_count": null,
   "metadata": {},
   "outputs": [
    {
     "name": "stdout",
     "output_type": "stream",
     "text": [
      "[5.0, 13.42, 16.4]\n"
     ]
    }
   ],
   "source": [
    "## Task 1.2 (with unpacking)\n",
    "\n",
    "# Given list of points\n",
    "points = [(3, 4), (6, 12), (10, 13)]\n",
    "distances = []\n",
    "\n",
    "# Loop with unpacking\n",
    "for x, y in points:\n",
    "    distance = round((x**2 + y**2) ** 0.5, 2)  # Square root using exponentiation\n",
    "    distances.append(distance)\n",
    "print(distances)\n"
   ]
  }
 ],
 "metadata": {
  "kernelspec": {
   "display_name": ".venv",
   "language": "python",
   "name": "python3"
  },
  "language_info": {
   "codemirror_mode": {
    "name": "ipython",
    "version": 3
   },
   "file_extension": ".py",
   "mimetype": "text/x-python",
   "name": "python",
   "nbconvert_exporter": "python",
   "pygments_lexer": "ipython3",
   "version": "3.11.8"
  }
 },
 "nbformat": 4,
 "nbformat_minor": 2
}
