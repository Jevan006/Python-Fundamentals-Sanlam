{
 "cells": [
  {
   "cell_type": "markdown",
   "metadata": {},
   "source": [
    "# 5 Pillars of code quality (In order of importance)\n",
    " 1. Readability (75% of a developers career is reading the code)\n",
    "    - code communicates your idea to other developers\n",
    "    - long Maintainability\n",
    " 2. Maintainability\n",
    "    - modular\n",
    "    - scalable\n",
    " 3. Extensibility - Adding features should be easy\n",
    " 4. Testability - Easily Testable\n",
    " 5. Performance \n",
    "    - Don't sacrifice readability for performance "
   ]
  },
  {
   "cell_type": "markdown",
   "metadata": {},
   "source": [
    "## Code debt?\n",
    " - Promise you make that I will make the code better tomorrow. But tomorrow never comes\n",
    " - Startups - Code debt rises ⬆️ & Time decreases ⬇️\n",
    " - Ideas ⬆️"
   ]
  }
 ],
 "metadata": {
  "language_info": {
   "name": "python"
  }
 },
 "nbformat": 4,
 "nbformat_minor": 2
}
