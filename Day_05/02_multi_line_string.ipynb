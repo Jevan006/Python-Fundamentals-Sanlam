{
 "cells": [
  {
   "cell_type": "markdown",
   "metadata": {},
   "source": [
    "# Multi line string\n",
    "Normal string - `\"\"`  `''`"
   ]
  },
  {
   "cell_type": "code",
   "execution_count": 1,
   "metadata": {},
   "outputs": [
    {
     "name": "stdout",
     "output_type": "stream",
     "text": [
      "This is cool This is cool\n"
     ]
    }
   ],
   "source": [
    "msg1 = \"This is cool\"\n",
    "msg2 = 'This is cool'\n",
    "\n",
    "print(msg1, msg2)"
   ]
  },
  {
   "cell_type": "code",
   "execution_count": null,
   "metadata": {},
   "outputs": [
    {
     "name": "stdout",
     "output_type": "stream",
     "text": [
      "This is super cool\n",
      "This is amazing\n"
     ]
    }
   ],
   "source": [
    "msg3 = \"This is super cool\\nThis is amazing\" # \\n -> new line character\n",
    "\n",
    "print(msg3)"
   ]
  },
  {
   "cell_type": "code",
   "execution_count": null,
   "metadata": {},
   "outputs": [
    {
     "name": "stdout",
     "output_type": "stream",
     "text": [
      "This is super cool\n",
      "This is amazing\n"
     ]
    }
   ],
   "source": [
    "msg4 = \"\"\"This is super cool\n",
    "This is amazing\"\"\"\n",
    "print(msg4)\n"
   ]
  },
  {
   "cell_type": "code",
   "execution_count": 5,
   "metadata": {},
   "outputs": [
    {
     "name": "stdout",
     "output_type": "stream",
     "text": [
      "This is super cool\n",
      "This is amazing\n",
      "Siyanda has 2000\n",
      "\n"
     ]
    }
   ],
   "source": [
    "followers = 2_000\n",
    "msg5 = f\"\"\"This is super cool\n",
    "This is amazing\n",
    "Siyanda has {followers}\n",
    "\"\"\"\n",
    "print(msg5)"
   ]
  }
 ],
 "metadata": {
  "kernelspec": {
   "display_name": ".venv",
   "language": "python",
   "name": "python3"
  },
  "language_info": {
   "codemirror_mode": {
    "name": "ipython",
    "version": 3
   },
   "file_extension": ".py",
   "mimetype": "text/x-python",
   "name": "python",
   "nbconvert_exporter": "python",
   "pygments_lexer": "ipython3",
   "version": "3.11.8"
  }
 },
 "nbformat": 4,
 "nbformat_minor": 2
}
