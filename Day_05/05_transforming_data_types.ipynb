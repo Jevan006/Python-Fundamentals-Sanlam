{
 "cells": [
  {
   "cell_type": "markdown",
   "metadata": {},
   "source": [
    "# `join()`"
   ]
  },
  {
   "cell_type": "code",
   "execution_count": 1,
   "metadata": {},
   "outputs": [
    {
     "data": {
      "text/plain": [
       "'🍎,🍊,🍓,🍍'"
      ]
     },
     "execution_count": 1,
     "metadata": {},
     "output_type": "execute_result"
    }
   ],
   "source": [
    "fruits = [\"🍎\", \"🍊\", \"🍓\", \"🍍\"]\n",
    "\",\".join(fruits)"
   ]
  },
  {
   "cell_type": "code",
   "execution_count": 2,
   "metadata": {},
   "outputs": [
    {
     "data": {
      "text/plain": [
       "'🍎|🍊|🍓|🍍'"
      ]
     },
     "execution_count": 2,
     "metadata": {},
     "output_type": "execute_result"
    }
   ],
   "source": [
    "fruits = [\"🍎\", \"🍊\", \"🍓\", \"🍍\"]\n",
    "\"|\".join(fruits)"
   ]
  },
  {
   "cell_type": "markdown",
   "metadata": {},
   "source": [
    "## String to List (conversion)"
   ]
  },
  {
   "cell_type": "code",
   "execution_count": 4,
   "metadata": {},
   "outputs": [
    {
     "data": {
      "text/plain": [
       "['mint', 'chocolate', 'vanilla']"
      ]
     },
     "execution_count": 4,
     "metadata": {},
     "output_type": "execute_result"
    }
   ],
   "source": [
    "ice_creams = \"mint|chocolate|vanilla\"\n",
    "ice_creams.split('|')"
   ]
  },
  {
   "cell_type": "markdown",
   "metadata": {},
   "source": [
    "# Task 1.1"
   ]
  },
  {
   "cell_type": "code",
   "execution_count": 17,
   "metadata": {},
   "outputs": [
    {
     "name": "stdout",
     "output_type": "stream",
     "text": [
      "['world', 'the', 'save', 'to', 'time', 'no', 'is', 'there']\n"
     ]
    }
   ],
   "source": [
    "# Output\n",
    "# there is no time to save the world\n",
    "scrambled_message = \"world the save to time no is there\"\n",
    "\n",
    "# Split the message into words\n",
    "words = scrambled_message.split()\n",
    "\n",
    "# Reverse the order using slicing\n",
    "correct_message = \" \".join(words[::-1])\n",
    "\n",
    "# Print the corrected message\n",
    "print(correct_message)\n"
   ]
  },
  {
   "cell_type": "markdown",
   "metadata": {},
   "source": [
    "# Task 1.2"
   ]
  },
  {
   "cell_type": "markdown",
   "metadata": {},
   "source": [
    "```py\n",
    "playlist = \"🎵Dancing Queen;🎸Sweet Child O' Mine;🎹Piano Man;🎤Bohemian Rhapsody;🎺All That Jazz\"\n",
    "```\n",
    "\n",
    "## Output\n",
    "My favorite playlist:\n",
    "\n",
    "1. 🎵Dancing Queen\n",
    "2. 🎸Sweet Child O' Mine\n",
    "3. 🎤Bohemian Rhapsody\n",
    "4. 🎺All That Jazz"
   ]
  },
  {
   "cell_type": "code",
   "execution_count": 23,
   "metadata": {},
   "outputs": [
    {
     "name": "stdout",
     "output_type": "stream",
     "text": [
      "My favorite playlist:\n",
      "\n",
      "1. 🎵Dancing Queen\n",
      "2. 🎸Sweet Child O' Mine\n",
      "3. 🎤Bohemian Rhapsody\n",
      "4. 🎺All That Jazz\n"
     ]
    }
   ],
   "source": [
    "playlist = \"🎵Dancing Queen;🎸Sweet Child O' Mine;🎹Piano Man;🎤Bohemian Rhapsody;🎺All That Jazz\"\n",
    "\n",
    "songs = playlist.split(\";\")\n",
    "\n",
    "filtered_songs = [songs[0], songs[1], songs[3], songs[4]]  # Picking by index\n",
    "\n",
    "print(\"My favorite playlist:\\n\")\n",
    "for i, song in enumerate(filtered_songs, start=1):\n",
    "    print(f\"{i}. {song}\")\n"
   ]
  },
  {
   "cell_type": "code",
   "execution_count": 30,
   "metadata": {},
   "outputs": [
    {
     "name": "stdout",
     "output_type": "stream",
     "text": [
      "My favorite playlist:\n",
      "\n",
      "1. 🎵Dancing Queen\n",
      "1. 🎸Sweet Child O' Mine\n",
      "1. 🎤Bohemian Rhapsody\n",
      "1. 🎺All That Jazz\n"
     ]
    }
   ],
   "source": [
    "playlist = \"🎵Dancing Queen;🎸Sweet Child O' Mine;🎹Piano Man;🎤Bohemian Rhapsody;🎺All That Jazz\"\n",
    "\n",
    "songs = playlist.replace(\";🎹Piano Man\", \"\").split(\";\")\n",
    "\n",
    "print(\"My favorite playlist:\\n\")\n",
    "for song in songs:\n",
    "    print(f\"{1}. {song}\")\n"
   ]
  }
 ],
 "metadata": {
  "kernelspec": {
   "display_name": ".venv",
   "language": "python",
   "name": "python3"
  },
  "language_info": {
   "codemirror_mode": {
    "name": "ipython",
    "version": 3
   },
   "file_extension": ".py",
   "mimetype": "text/x-python",
   "name": "python",
   "nbconvert_exporter": "python",
   "pygments_lexer": "ipython3",
   "version": "3.11.8"
  }
 },
 "nbformat": 4,
 "nbformat_minor": 2
}
