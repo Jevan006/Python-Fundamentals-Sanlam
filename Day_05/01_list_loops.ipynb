{
 "cells": [
  {
   "cell_type": "markdown",
   "metadata": {},
   "source": [
    "# Intro to lists\n",
    "- Holds multiple values\n",
    "- methods\n",
    "  - C \n",
    "  - R\n",
    "  - U \n",
    "  - D\n",
    "\n",
    "- Non-primitive data type\n",
    "- Holds multiple values\n",
    "- Mutable\n",
    "- Same data types (Recommended)\n",
    "- Mixing data types allowed (But don't ❌)\n",
    "\n",
    "Methods\n",
    "- Create - marks = [80, 90, 70, 45, 95] ✅\n",
    "- Read - index & slice ✅\n",
    "- Update - index (mutates)\n",
    "- Delete\n"
   ]
  },
  {
   "cell_type": "code",
   "execution_count": null,
   "metadata": {},
   "outputs": [],
   "source": [
    "x = 10\n",
    "y = 20\n",
    "print(x+y)"
   ]
  },
  {
   "cell_type": "code",
   "execution_count": null,
   "metadata": {},
   "outputs": [],
   "source": [
    "mark1 = 80\n",
    "mark2 = 90\n",
    "mark3 = 70\n",
    "mark4 = 45\n",
    "mark5 = 95"
   ]
  },
  {
   "cell_type": "code",
   "execution_count": null,
   "metadata": {},
   "outputs": [],
   "source": [
    "## Index"
   ]
  },
  {
   "cell_type": "code",
   "execution_count": null,
   "metadata": {},
   "outputs": [],
   "source": [
    "marks = [80,90,70,45,95]\n",
    "print(marks[2])"
   ]
  },
  {
   "cell_type": "code",
   "execution_count": 6,
   "metadata": {},
   "outputs": [
    {
     "name": "stdout",
     "output_type": "stream",
     "text": [
      "[90, 70, 45, 95]\n",
      "[90, 70, 45, 95]\n"
     ]
    }
   ],
   "source": [
    "marks = [80, 90, 70, 45, 95]\n",
    "print(marks[1:])\n",
    "print(marks[1:])"
   ]
  },
  {
   "cell_type": "code",
   "execution_count": null,
   "metadata": {},
   "outputs": [],
   "source": [
    "fruits = \"🍇\", \"🍈\", \"🍉\"\n",
    "vegetables = \"🥔\", \"🥕\",\"🫑\"\n",
    "print(fruits + vegetables)\n",
    "print(marks)"
   ]
  },
  {
   "cell_type": "markdown",
   "metadata": {},
   "source": [
    "# Repitition operator "
   ]
  },
  {
   "cell_type": "code",
   "execution_count": null,
   "metadata": {},
   "outputs": [
    {
     "data": {
      "text/plain": [
       "('🥔', '🥕', '🫑', '🥔', '🥕', '🫑')"
      ]
     },
     "execution_count": 9,
     "metadata": {},
     "output_type": "execute_result"
    }
   ],
   "source": [
    "vegetables = \"🥔\", \"🥕\", \"🫑\"\n",
    "vegetables * 2"
   ]
  },
  {
   "cell_type": "code",
   "execution_count": null,
   "metadata": {},
   "outputs": [
    {
     "data": {
      "text/plain": [
       "3"
      ]
     },
     "execution_count": 10,
     "metadata": {},
     "output_type": "execute_result"
    }
   ],
   "source": [
    "vegetables = [\"Carrot🥔\", \"🥕\", \"🫑\"] # count elements in a list\n",
    "len(vegetables)"
   ]
  },
  {
   "cell_type": "code",
   "execution_count": 11,
   "metadata": {},
   "outputs": [
    {
     "data": {
      "text/plain": [
       "7"
      ]
     },
     "execution_count": 11,
     "metadata": {},
     "output_type": "execute_result"
    }
   ],
   "source": [
    "len(\"Siyanda\") # 7 Characters\n"
   ]
  },
  {
   "cell_type": "code",
   "execution_count": 14,
   "metadata": {},
   "outputs": [
    {
     "data": {
      "text/plain": [
       "['Carrot🥔', '🥒', '🫑']"
      ]
     },
     "execution_count": 14,
     "metadata": {},
     "output_type": "execute_result"
    }
   ],
   "source": [
    "vegetables = [\"Carrot🥔\", \"🥕\", \"🫑\"]\n",
    "# Replace '🥕' -> '🫛'\n",
    "vegetables[1] = \"🥒\"\n",
    "\n",
    "vegetables # Immutable vs Mutable # Easy\n"
   ]
  },
  {
   "cell_type": "code",
   "execution_count": null,
   "metadata": {},
   "outputs": [
    {
     "data": {
      "text/plain": [
       "[80, 90, 70, 45, 95, 100]"
      ]
     },
     "execution_count": 15,
     "metadata": {},
     "output_type": "execute_result"
    }
   ],
   "source": [
    "# Add 100 at end\n",
    "marks = [80, 90, 70, 45, 95]\n",
    "marks.append(100)\n",
    "marks"
   ]
  },
  {
   "cell_type": "code",
   "execution_count": 18,
   "metadata": {},
   "outputs": [
    {
     "data": {
      "text/plain": [
       "[80, 90, 55, 70, 45, 95]"
      ]
     },
     "execution_count": 18,
     "metadata": {},
     "output_type": "execute_result"
    }
   ],
   "source": [
    "marks = [80, 90, 70, 45, 95]\n",
    "marks.insert(2, 55)\n",
    "marks"
   ]
  },
  {
   "cell_type": "markdown",
   "metadata": {},
   "source": [
    "# Remove items"
   ]
  },
  {
   "cell_type": "code",
   "execution_count": 24,
   "metadata": {},
   "outputs": [
    {
     "data": {
      "text/plain": [
       "['Hulk', 'Iron man', 'Spider man', 'Thor']"
      ]
     },
     "execution_count": 24,
     "metadata": {},
     "output_type": "execute_result"
    }
   ],
   "source": [
    "avengers = [\"Hulk\", \"Iron man\", \"Black widow\", \"Spider man\", \"Thor\"]\n",
    "\n",
    "avengers.pop(2)\n",
    "avengers\n"
   ]
  },
  {
   "cell_type": "code",
   "execution_count": 25,
   "metadata": {},
   "outputs": [
    {
     "data": {
      "text/plain": [
       "['Iron man', 'Black widow', 'Spider man', 'Thor']"
      ]
     },
     "execution_count": 25,
     "metadata": {},
     "output_type": "execute_result"
    }
   ],
   "source": [
    "avengers = [\"Hulk\",\"Iron man\",\"Black widow\",\"Spider man\",\"Thor\"]\n",
    "\n",
    "avengers.remove(\"Hulk\")\n",
    "avengers\n"
   ]
  },
  {
   "cell_type": "markdown",
   "metadata": {},
   "source": [
    "# Task 1.1\n",
    "find the letters in each characters name\n",
    "'''py\n",
    "avengers = [\"Hulk\",\"Iron man\",\"Black widow\",\"Captain America\",\"Spider man\",\"Thor\"]\n",
    "'''\n",
    "Output[4,8,11,15,10,4]"
   ]
  },
  {
   "cell_type": "markdown",
   "metadata": {},
   "source": [
    "# Task 1.2\n",
    " \n",
    "Find longer names more the 10 letters name and stored in a new list\n",
    " \n",
    "Output\n",
    "[\"Black widow\", \"Captain america\"]"
   ]
  },
  {
   "cell_type": "code",
   "execution_count": 2,
   "metadata": {},
   "outputs": [
    {
     "name": "stdout",
     "output_type": "stream",
     "text": [
      "[4, 7, 10, 14, 9, 4]\n"
     ]
    }
   ],
   "source": [
    "# Task 1.1\n",
    "avengers = [\"Hulk\", \"Iron man\", \"Black widow\", \"Captain America\", \"Spider man\", \"Thor\"]\n",
    "\n",
    "letters_count = []  # List to store the letter counts\n",
    "\n",
    "for i in range(len(avengers)):  # Loop through the indices of the list\n",
    "    count = len(avengers[i].replace(\" \", \"\"))  # Count letters excluding spaces\n",
    "    letters_count.append(count)  # Append count to the list\n",
    "\n",
    "print(letters_count)\n"
   ]
  },
  {
   "cell_type": "code",
   "execution_count": null,
   "metadata": {},
   "outputs": [
    {
     "name": "stdout",
     "output_type": "stream",
     "text": [
      "['Black widow', 'Captain America', 'Spider man']\n"
     ]
    }
   ],
   "source": [
    " # Task 1.2'\n",
    "avengers = [\"Hulk\", \"Iron man\", \"Black widow\", \"Captain America\", \"Spider man\", \"Thor\"]\n",
    "\n",
    "long_names = []  # List to store names with more than 10 letters\n",
    "\n",
    "for i in range(len(avengers)):  # Loop through indices of the list\n",
    "    if len(avengers[i].replace(\" \", \"\")) >= 10:  # Count letters excluding spaces\n",
    "        long_names.append(avengers[i])  # Add the name to the new list\n",
    "\n",
    "print(long_names)\n"
   ]
  },
  {
   "cell_type": "markdown",
   "metadata": {},
   "source": [
    "## Task 2.1\n",
    " \n",
    "Calculate the total of shopping_items & apply tax of 10%\n",
    " \n",
    "```py\n",
    "shopping_items = [1000, 5000,  4000, 2000, 3000]\n",
    "```\n",
    " \n",
    " \n",
    "Expected Output\n",
    " \n",
    "```\n",
    "Your total is R15000\n",
    "Tax is 10%      R1500\n",
    "Your grand total is R16500\n",
    "```\n",
    " "
   ]
  },
  {
   "cell_type": "code",
   "execution_count": 35,
   "metadata": {},
   "outputs": [
    {
     "name": "stdout",
     "output_type": "stream",
     "text": [
      "Your total is R15000\n",
      "Tax is 10% R1500.0\n",
      "Your grand total is R16500.0\n"
     ]
    }
   ],
   "source": [
    "shopping_items = [1000, 5000, 4000, 2000, 3000]\n",
    "total = sum(shopping_items)\n",
    "tax = (total * 0.10)\n",
    "grand_total = (total + tax)\n",
    "print(f\"Your total is R{total}\")\n",
    "print(f\"Tax is 10% R{tax}\")\n",
    "print(f\"Your grand total is R{grand_total}\")"
   ]
  },
  {
   "cell_type": "code",
   "execution_count": null,
   "metadata": {},
   "outputs": [],
   "source": [
    "shopping_items = [1000, 5000, 4000, 2000, 3000]\n",
    "\n",
    "# Initialize total to 0\n",
    "total = 0\n",
    "\n",
    "for i in range(len(shopping_items)):\n",
    "    total += shopping_items[i]\n",
    "\n",
    "tax = total * 0.10\n",
    "\n",
    "grand_total = total + tax\n",
    "\n",
    "# Print the results\n",
    "print(f\"Your total is R{total}\")\n",
    "print(f\"Tax is 10%      R{tax}\")\n",
    "print(f\"Your grand total is R{grand_total}\")\n"
   ]
  },
  {
   "cell_type": "markdown",
   "metadata": {},
   "source": [
    "# Numeric seperators\n",
    "\n",
    "x = 10000000 ❌\n",
    "x = 10_000_000  ✅\n",
    "(Its not wrong but helps with DX)"
   ]
  },
  {
   "cell_type": "code",
   "execution_count": 4,
   "metadata": {},
   "outputs": [
    {
     "name": "stdout",
     "output_type": "stream",
     "text": [
      "10000000\n",
      "8000\n"
     ]
    }
   ],
   "source": [
    "x = 10_000_000  # DX (Improves Developer experience)\n",
    "print(x)\n",
    "\n",
    "print(3_000 + 5_000)\n"
   ]
  },
  {
   "cell_type": "code",
   "execution_count": 5,
   "metadata": {},
   "outputs": [
    {
     "name": "stdout",
     "output_type": "stream",
     "text": [
      "(5, 600)\n"
     ]
    }
   ],
   "source": [
    "y = 5,600 # ❌ (Creates a tuple)\n",
    "print(y)\n"
   ]
  },
  {
   "cell_type": "markdown",
   "metadata": {},
   "source": [
    "# For loop with list\n",
    "1. for with index \n",
    "2. simple for loop "
   ]
  },
  {
   "cell_type": "code",
   "execution_count": 7,
   "metadata": {},
   "outputs": [
    {
     "name": "stdout",
     "output_type": "stream",
     "text": [
      "0 90 180\n",
      "1 80 160\n",
      "2 50 100\n",
      "3 65 130\n"
     ]
    }
   ],
   "source": [
    "powers = [90, 80, 50, 65]\n",
    "\n",
    "for i in range(len(powers)):\n",
    "    print(i, powers[i], powers[i]*2)"
   ]
  },
  {
   "cell_type": "code",
   "execution_count": 8,
   "metadata": {},
   "outputs": [
    {
     "name": "stdout",
     "output_type": "stream",
     "text": [
      "90 180\n",
      "80 160\n",
      "50 100\n",
      "65 130\n"
     ]
    }
   ],
   "source": [
    "# Simple for loop\n",
    "\n",
    "powers = [90, 80, 50, 65]\n",
    "\n",
    "for power in powers:\n",
    "    print(power, power*2)\n"
   ]
  },
  {
   "cell_type": "markdown",
   "metadata": {},
   "source": [
    "# When to choose 'for with index' vs 'simple for loop'\n",
    "- if you want the index then go for the first one \n",
    "- if you do not need the index then go for the second one "
   ]
  },
  {
   "cell_type": "code",
   "execution_count": 12,
   "metadata": {},
   "outputs": [
    {
     "name": "stdout",
     "output_type": "stream",
     "text": [
      "5 10\n",
      "6 12\n",
      "8 16\n",
      "7 14\n"
     ]
    }
   ],
   "source": [
    "score = [5, 6, 8, 7]\n",
    "\n",
    "# Simple for loop\n",
    "for s in score:\n",
    "    print(s, s*2)\n"
   ]
  },
  {
   "cell_type": "markdown",
   "metadata": {},
   "source": [
    "## Task 2.2\n",
    "Refactor with numerics and simple for loop"
   ]
  },
  {
   "cell_type": "code",
   "execution_count": 14,
   "metadata": {},
   "outputs": [
    {
     "name": "stdout",
     "output_type": "stream",
     "text": [
      "Your total is R15000\n",
      "Tax is 10% R1500\n",
      "Your grand total is R16500\n"
     ]
    }
   ],
   "source": [
    "shopping_items = [1000, 5000, 4000, 2000, 3000]\n",
    "\n",
    "# Calculate total using a for loop\n",
    "total = 0\n",
    "for item in shopping_items:\n",
    "    total += item\n",
    "\n",
    "# Calculate tax (10% of total)\n",
    "tax = total * 0.10\n",
    "\n",
    "# Calculate grand total\n",
    "grand_total = total + tax\n",
    "\n",
    "# Print the results\n",
    "print(f\"Your total is R{total}\")\n",
    "print(f\"Tax is 10% R{int(tax)}\")\n",
    "print(f\"Your grand total is R{int(grand_total)}\")\n"
   ]
  },
  {
   "cell_type": "code",
   "execution_count": 11,
   "metadata": {},
   "outputs": [
    {
     "ename": "TypeError",
     "evalue": "'str' object is not callable",
     "output_type": "error",
     "traceback": [
      "\u001b[1;31m---------------------------------------------------------------------------\u001b[0m",
      "\u001b[1;31mTypeError\u001b[0m                                 Traceback (most recent call last)",
      "Cell \u001b[1;32mIn[11], line 20\u001b[0m\n\u001b[0;32m     16\u001b[0m \u001b[38;5;66;03m# Print the results\u001b[39;00m\n\u001b[0;32m     17\u001b[0m msg1\u001b[38;5;241m=\u001b[39m\u001b[38;5;124mf\u001b[39m\u001b[38;5;124m\"\"\"\u001b[39m\u001b[38;5;124mYour total is R \u001b[39m\u001b[38;5;132;01m{\u001b[39;00mtotal\u001b[38;5;132;01m}\u001b[39;00m\n\u001b[0;32m     18\u001b[0m \u001b[38;5;124mTax is 10% R \u001b[39m\u001b[38;5;132;01m{\u001b[39;00mtax\u001b[38;5;132;01m}\u001b[39;00m\n\u001b[0;32m     19\u001b[0m \u001b[38;5;124mYour grand total is R \u001b[39m\u001b[38;5;132;01m{\u001b[39;00mgrand_total\u001b[38;5;132;01m}\u001b[39;00m\u001b[38;5;124m\"\"\"\u001b[39m\n\u001b[1;32m---> 20\u001b[0m \u001b[38;5;28;43mprint\u001b[39;49m\u001b[43m(\u001b[49m\u001b[43mmsg1\u001b[49m\u001b[43m)\u001b[49m\n",
      "\u001b[1;31mTypeError\u001b[0m: 'str' object is not callable"
     ]
    }
   ],
   "source": [
    "# Using multi line string\n",
    "\n",
    "shopping_items = [1000, 5000, 4000, 2000, 3000]\n",
    "\n",
    "# Calculate total using a for loop\n",
    "total = 0\n",
    "for item in shopping_items:\n",
    "    total += item\n",
    "\n",
    "# Calculate tax (10% of total)\n",
    "tax = total * 0.10\n",
    "\n",
    "# Calculate grand total\n",
    "grand_total = total + tax\n",
    "\n",
    "# Print the results\n",
    "msg1=f\"\"\"Your total is R {total}\n",
    "Tax is 10% R {tax}\n",
    "Your grand total is R {grand_total}\"\"\"\n",
    "print(msg1)"
   ]
  }
 ],
 "metadata": {
  "kernelspec": {
   "display_name": ".venv",
   "language": "python",
   "name": "python3"
  },
  "language_info": {
   "codemirror_mode": {
    "name": "ipython",
    "version": 3
   },
   "file_extension": ".py",
   "mimetype": "text/x-python",
   "name": "python",
   "nbconvert_exporter": "python",
   "pygments_lexer": "ipython3",
   "version": "3.11.8"
  }
 },
 "nbformat": 4,
 "nbformat_minor": 2
}
