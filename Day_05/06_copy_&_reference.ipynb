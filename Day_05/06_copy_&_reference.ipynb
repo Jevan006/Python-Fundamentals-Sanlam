{
 "cells": [
  {
   "cell_type": "markdown",
   "metadata": {},
   "source": [
    "# Copy by reference and copy by value"
   ]
  },
  {
   "cell_type": "code",
   "execution_count": null,
   "metadata": {},
   "outputs": [],
   "source": [
    "prices = [1000, 1500, 400]\n",
    "print(\"Original prices: 💰\", prices)\n",
    "prices1 = prices[:]  # Copy by value\n",
    "prices2 = prices  # Copy by reference\n",
    "\n",
    "prices.append(600)\n",
    "prices1.append(800)\n",
    "prices2.append(1000)\n",
    "\n",
    "# What is output & Why?\n",
    "print(prices)  #  [1000, 1500, 400, 600, 1000]\n",
    "print(prices1)  # [1000, 1500, 400, 800]\n",
    "print(prices2)  # [1000, 1500, 400, 600, 1000]\n"
   ]
  }
 ],
 "metadata": {
  "language_info": {
   "name": "python"
  }
 },
 "nbformat": 4,
 "nbformat_minor": 2
}
