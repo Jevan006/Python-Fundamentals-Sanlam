{
 "cells": [
  {
   "cell_type": "code",
   "execution_count": null,
   "metadata": {},
   "outputs": [
    {
     "name": "stdout",
     "output_type": "stream",
     "text": [
      "['Inception', 'Interstellar', 'Dunkirk', 'The Dark Knight', 'Memento']\n"
     ]
    }
   ],
   "source": [
    "movies = [\n",
    "    {\n",
    "        \"title\": \"Inception\",\n",
    "        \"ratings\": [5, 4, 5, 4, 5]\n",
    "    },\n",
    "    {\n",
    "        \"title\": \"Interstellar\",\n",
    "        \"ratings\": [5, 5, 4, 5, 4]\n",
    "    },\n",
    "    {\n",
    "        \"title\": \"Dunkirk\",\n",
    "        \"ratings\": [4, 4, 4, 3, 4]\n",
    "    },\n",
    "    {\n",
    "        \"title\": \"The Dark Knight\",\n",
    "        \"ratings\": [5, 5, 5, 5, 5]\n",
    "    },\n",
    "    {\n",
    "        \"title\": \"Memento\",\n",
    "        \"ratings\": [4, 5, 4, 5, 4]\n",
    "    },\n",
    "]\n"
   ]
  },
  {
   "cell_type": "code",
   "execution_count": 12,
   "metadata": {},
   "outputs": [
    {
     "name": "stdout",
     "output_type": "stream",
     "text": [
      "['Inception', 'Interstellar', 'The Dark Knight']\n"
     ]
    }
   ],
   "source": [
    "# Task 1.1 - With List Comp\n",
    "# Output\n",
    "# [\"Inception\", \"Interstellar\", \"Dunkirk\", \"The Dark Knight\", \"Memento\"]\n",
    "\n",
    "movies = [\n",
    "    {\"title\": \"Inception\", \"ratings\": [5, 4, 5, 4, 5]},\n",
    "    {\"title\": \"Interstellar\", \"ratings\": [5, 5, 4, 5, 4]},\n",
    "    {\"title\": \"Dunkirk\", \"ratings\": [4, 4, 4, 3, 4]},\n",
    "    {\"title\": \"The Dark Knight\", \"ratings\": [5, 5, 5, 5, 5]},\n",
    "    {\"title\": \"Memento\", \"ratings\": [4, 5, 4, 5, 4]},\n",
    "]\n",
    "\n",
    "top_rated_movies = [\n",
    "    movie[\"title\"] for movie in movies_with_avg if movie[\"average_rating\"] >= 4.6\n",
    "]\n",
    "\n",
    "print(top_rated_movies)\n"
   ]
  },
  {
   "cell_type": "code",
   "execution_count": null,
   "metadata": {},
   "outputs": [
    {
     "name": "stdout",
     "output_type": "stream",
     "text": [
      "[4.6, 4.6, 3.8, 5.0, 4.4]\n"
     ]
    }
   ],
   "source": [
    "## Task 1.2\n",
    "## Average rating of each movie\n",
    "\n",
    "## Output\n",
    "## [ 4.6, 4.2, 4.1, 5, 4.2]\n",
    "\n",
    "average_ratings = [sum(movie[\"ratings\"]) / len(movie[\"ratings\"]) for movie in movies]\n",
    "print(average_ratings)\n"
   ]
  },
  {
   "cell_type": "code",
   "execution_count": 10,
   "metadata": {},
   "outputs": [
    {
     "name": "stdout",
     "output_type": "stream",
     "text": [
      "[{'title': 'Inception', 'ratings': [5, 4, 5, 4, 5], 'average_rating': 4.6}, {'title': 'Interstellar', 'ratings': [5, 5, 4, 5, 4], 'average_rating': 4.6}, {'title': 'Dunkirk', 'ratings': [4, 4, 4, 3, 4], 'average_rating': 3.8}, {'title': 'The Dark Knight', 'ratings': [5, 5, 5, 5, 5], 'average_rating': 5.0}, {'title': 'Memento', 'ratings': [4, 5, 4, 5, 4], 'average_rating': 4.4}]\n"
     ]
    }
   ],
   "source": [
    "## Task 1.3\n",
    "## Don't modify original movies list\n",
    "\n",
    "## Output\n",
    "\n",
    "\n",
    "movies_with_avg = [\n",
    "    {**movie, \"average_rating\": sum(movie[\"ratings\"]) / len(movie[\"ratings\"])}\n",
    "    for movie in movies\n",
    "]\n",
    "\n",
    "print(movies_with_avg)\n"
   ]
  },
  {
   "cell_type": "code",
   "execution_count": null,
   "metadata": {},
   "outputs": [
    {
     "name": "stdout",
     "output_type": "stream",
     "text": [
      "['Inception', 'Interstellar', 'The Dark Knight']\n"
     ]
    }
   ],
   "source": [
    "\n",
    "## Task 1.4\n",
    "## Need top rated movies: average_rating >= 4.6\n",
    "\n",
    "## Output\n",
    "## [\"Inception\", \"The Dark Knight\"]\n",
    "\n",
    "movies_with_avg = [\n",
    "    {**movie, \"average_rating\": sum(movie[\"ratings\"]) / len(movie[\"ratings\"])}\n",
    "    for movie in movies\n",
    "]\n",
    "\n",
    "top_rated_movies = [\n",
    "    movie[\"title\"] for movie in movies_with_avg if movie[\"average_rating\"] >= 4.6\n",
    "]\n",
    "\n",
    "print(top_rated_movies)\n"
   ]
  }
 ],
 "metadata": {
  "kernelspec": {
   "display_name": ".venv",
   "language": "python",
   "name": "python3"
  },
  "language_info": {
   "codemirror_mode": {
    "name": "ipython",
    "version": 3
   },
   "file_extension": ".py",
   "mimetype": "text/x-python",
   "name": "python",
   "nbconvert_exporter": "python",
   "pygments_lexer": "ipython3",
   "version": "3.11.8"
  }
 },
 "nbformat": 4,
 "nbformat_minor": 2
}
