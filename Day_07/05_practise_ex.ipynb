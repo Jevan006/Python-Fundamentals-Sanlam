{
 "cells": [
  {
   "cell_type": "code",
   "execution_count": null,
   "metadata": {},
   "outputs": [],
   "source": [
    "guests = [{\n",
    "    \"name\": \"Alice\",\n",
    "    \"age\": 25,\n",
    "    \"code\": \"VIP123\"\n",
    "}, {\n",
    "    \"name\": \"Bob\",\n",
    "    \"age\": 17,\n",
    "    \"code\": \"VIP123\"\n",
    "}, {\n",
    "    \"name\": \"Charlie\",\n",
    "    \"age\": 30,\n",
    "    \"code\": \"VIP123\"\n",
    "}, {\n",
    "    \"name\": \"Dave\",\n",
    "    \"age\": 22,\n",
    "    \"code\": \"GUEST\"\n",
    "}, {\n",
    "    \"name\": \"Eve\",\n",
    "    \"age\": 29,\n",
    "    \"code\": \"VIP123\"\n",
    "}]\n",
    "\n",
    "blacklist = [\"Dave\", \"Eve\"]\n",
    "\n",
    "# Task\n",
    "# People who are 21 or above and VIP123\n",
    "# Blacklist are not allowed\n",
    "\n",
    "\n",
    "PASS_CODE = \"VIP123\"\n",
    "\n",
    "guestlist = [] # ?"
   ]
  },
  {
   "cell_type": "code",
   "execution_count": null,
   "metadata": {},
   "outputs": [],
   "source": [
    "# Task 1.1 - Simple for loop\n",
    "\n",
    "PASS_CODE = \"VIP123\"\n",
    "\n",
    "guestlist = []\n",
    "\n",
    "for guest in guests:\n",
    "    if (\n",
    "        guest[\"age\"] >= 21\n",
    "        and guest[\"code\"] == PASS_CODE\n",
    "        and guest[\"name\"] not in blacklist\n",
    "    ):\n",
    "        guestlist.append(guest[\"name\"])\n",
    "\n",
    "print(guestlist)\n"
   ]
  },
  {
   "cell_type": "code",
   "execution_count": null,
   "metadata": {},
   "outputs": [
    {
     "name": "stdout",
     "output_type": "stream",
     "text": [
      "['Alice', 'Charlie']\n"
     ]
    }
   ],
   "source": [
    "# Task 1.2 - List comp\n",
    "\n",
    "guests = [\n",
    "    {\"name\": \"Alice\", \"age\": 25, \"code\": \"VIP123\"},\n",
    "    {\"name\": \"Bob\", \"age\": 17, \"code\": \"VIP123\"},\n",
    "    {\"name\": \"Charlie\", \"age\": 30, \"code\": \"VIP123\"},\n",
    "    {\"name\": \"Dave\", \"age\": 22, \"code\": \"GUEST\"},\n",
    "    {\"name\": \"Eve\", \"age\": 29, \"code\": \"VIP123\"},\n",
    "]\n",
    "\n",
    "blacklist = [\"Dave\", \"Eve\"]\n",
    "PASS_CODE = \"VIP123\"\n",
    "\n",
    "guestlist = []\n",
    "\n",
    "guestlist = [\n",
    "    guest[\"name\"]\n",
    "    for guest in guests\n",
    "    if guest[\"age\"] >= 21 and guest[\"code\"] == PASS_CODE and guest[\"name\"] not in blacklist\n",
    "]\n",
    "\n",
    "print(guestlist)"
   ]
  },
  {
   "cell_type": "code",
   "execution_count": null,
   "metadata": {},
   "outputs": [],
   "source": [
    "# Task 2 (Challenging)\n",
    "# Use nested dictionary comprehension to create a dictionary of restaurants with items under $10\n",
    "\n",
    "# Restaurant menus with emoji food items and prices\n",
    "restaurant_menus = [\n",
    "    {\n",
    "        \"restaurant\": \"Italian Place\",\n",
    "        \"menu\": {\"🍕\": 12.99, \"🍝\": 10.99, \"🥖\": 3.99, \"🥗\": 7.99},\n",
    "    },\n",
    "    {\n",
    "        \"restaurant\": \"Burger Joint\",\n",
    "        \"menu\": {\"🍔\": 8.99, \"🍟\": 3.99, \"🥤\": 1.99, \"🍦\": 4.99},\n",
    "    },\n",
    "    {\n",
    "        \"restaurant\": \"Sushi Bar\",\n",
    "        \"menu\": {\"🍣\": 15.99, \"🍜\": 12.99, \"🍙\": 6.99, \"🍶\": 9.99},\n",
    "    },\n",
    "    {\n",
    "        \"restaurant\": \"Health Spot\",\n",
    "        \"menu\": {\"🥗\": 9.99, \"🥙\": 8.99, \"🥑\": 4.99, \"🥝\": 3.99},\n",
    "    },\n",
    "]\n",
    "\n",
    "\n",
    "# Expected output\n",
    "# Output\n",
    "{\n",
    "    \"Italian Place\": {\"🥖\": 3.99, \"🥗\": 7.99},\n",
    "    \"Burger Joint\": {\"🍔\": 8.99, \"🍟\": 3.99, \"🥤\": 1.99, \"🍦\": 4.99},\n",
    "    \"Sushi Bar\": {\"🍙\": 6.99},\n",
    "    \"Health Spot\": {\"🥙\": 8.99, \"🥑\": 4.99, \"🥝\": 3.99},\n",
    "}\n"
   ]
  },
  {
   "cell_type": "code",
   "execution_count": 6,
   "metadata": {},
   "outputs": [
    {
     "ename": "NameError",
     "evalue": "name 'restaurant_menus' is not defined",
     "output_type": "error",
     "traceback": [
      "\u001b[1;31m---------------------------------------------------------------------------\u001b[0m",
      "\u001b[1;31mNameError\u001b[0m                                 Traceback (most recent call last)",
      "Cell \u001b[1;32mIn[6], line 4\u001b[0m\n\u001b[0;32m      1\u001b[0m \u001b[38;5;66;03m# normal for loop (nesting)\u001b[39;00m\n\u001b[0;32m      2\u001b[0m affordable_restaurants \u001b[38;5;241m=\u001b[39m {}  \u001b[38;5;66;03m# Initialize an empty dictionary\u001b[39;00m\n\u001b[1;32m----> 4\u001b[0m \u001b[38;5;28;01mfor\u001b[39;00m restaurant \u001b[38;5;129;01min\u001b[39;00m \u001b[43mrestaurant_menus\u001b[49m:\n\u001b[0;32m      5\u001b[0m     name \u001b[38;5;241m=\u001b[39m restaurant[\u001b[38;5;124m\"\u001b[39m\u001b[38;5;124mrestaurant\u001b[39m\u001b[38;5;124m\"\u001b[39m]  \u001b[38;5;66;03m# Get restaurant name\u001b[39;00m\n\u001b[0;32m      6\u001b[0m     menu \u001b[38;5;241m=\u001b[39m restaurant[\u001b[38;5;124m\"\u001b[39m\u001b[38;5;124mmenu\u001b[39m\u001b[38;5;124m\"\u001b[39m]  \u001b[38;5;66;03m# Get menu items\u001b[39;00m\n",
      "\u001b[1;31mNameError\u001b[0m: name 'restaurant_menus' is not defined"
     ]
    }
   ],
   "source": [
    "# normal for loop (nesting)\n",
    "affordable_restaurants = {}  # Initialize an empty dictionary\n",
    "\n",
    "for restaurant in restaurant_menus:\n",
    "    name = restaurant[\"restaurant\"]  # Get restaurant name\n",
    "    menu = restaurant[\"menu\"]  # Get menu items\n",
    "\n",
    "    # Filter items under $10\n",
    "    affordable_menu = {}\n",
    "    for item, price in menu.items():\n",
    "        if price < 10:\n",
    "            affordable_menu[item] = price  # Add only items under $10\n",
    "\n",
    "    if affordable_menu:  # Only include restaurants that have affordable items\n",
    "        affordable_restaurants[name] = affordable_menu\n",
    "\n",
    "print(affordable_restaurants)\n"
   ]
  },
  {
   "cell_type": "code",
   "execution_count": null,
   "metadata": {},
   "outputs": [],
   "source": [
    "# Comprehension (nesting)\n"
   ]
  },
  {
   "cell_type": "code",
   "execution_count": 5,
   "metadata": {},
   "outputs": [
    {
     "name": "stdout",
     "output_type": "stream",
     "text": [
      "True\n",
      "True\n"
     ]
    }
   ],
   "source": [
    "t1 = [100, 200]\n",
    "t2 = [100, 200]\n",
    "t3 = t1\n",
    "\n",
    "print (t1 == t2)\n",
    "print (t1 == t3)"
   ]
  }
 ],
 "metadata": {
  "kernelspec": {
   "display_name": ".venv",
   "language": "python",
   "name": "python3"
  },
  "language_info": {
   "codemirror_mode": {
    "name": "ipython",
    "version": 3
   },
   "file_extension": ".py",
   "mimetype": "text/x-python",
   "name": "python",
   "nbconvert_exporter": "python",
   "pygments_lexer": "ipython3",
   "version": "3.11.8"
  }
 },
 "nbformat": 4,
 "nbformat_minor": 2
}
