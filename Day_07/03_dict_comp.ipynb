{
 "cells": [
  {
   "cell_type": "code",
   "execution_count": 1,
   "metadata": {},
   "outputs": [
    {
     "data": {
      "text/plain": [
       "{2: 4,\n",
       " 4: 16,\n",
       " 6: 36,\n",
       " 8: 64,\n",
       " 10: 100,\n",
       " 12: 144,\n",
       " 14: 196,\n",
       " 16: 256,\n",
       " 18: 324,\n",
       " 20: 400,\n",
       " 22: 484,\n",
       " 24: 576}"
      ]
     },
     "execution_count": 1,
     "metadata": {},
     "output_type": "execute_result"
    }
   ],
   "source": [
    "nums = {i: i ** 2 for i in range(1, 25) if i % 2 == 0}\n",
    "nums"
   ]
  },
  {
   "cell_type": "code",
   "execution_count": null,
   "metadata": {},
   "outputs": [],
   "source": [
    "##  Practice Tasks\n",
    "# Task 1.1: Odd/Even Classification\n",
    "# Create a dictionary where keys are numbers from 1 to 10 and values are strings indicating whether the number is 'odd' or 'even'.\n",
    "\n",
    "# Expected Output:\n",
    "\n",
    "# {1: 'odd', 2: 'even', 3: 'odd', 4: 'even', 5: 'odd', 6: 'even', 7: 'odd', 8: 'even', 9: 'odd', 10: 'even'}\n"
   ]
  },
  {
   "cell_type": "code",
   "execution_count": 2,
   "metadata": {},
   "outputs": [
    {
     "name": "stdout",
     "output_type": "stream",
     "text": [
      "{1: 'odd', 2: 'even', 3: 'odd', 4: 'even', 5: 'odd', 6: 'even', 7: 'odd', 8: 'even', 9: 'odd', 10: 'even'}\n"
     ]
    }
   ],
   "source": [
    "odd_even_dict = {i: \"odd\" if i % 2 != 0 else \"even\" for i in range(1, 11)}\n",
    "\n",
    "print(odd_even_dict)\n"
   ]
  },
  {
   "cell_type": "code",
   "execution_count": 5,
   "metadata": {},
   "outputs": [
    {
     "name": "stdout",
     "output_type": "stream",
     "text": [
      "{'banana': 2.5, 'orange': 3.0, 'kiwi': 4.0}\n"
     ]
    }
   ],
   "source": [
    "## Task 1.2: Filtering Fruits by Price\n",
    "# Given a dictionary of fruits with their prices, filter it to include only fruits priced above 2.\n",
    "\n",
    "fruits = {'apple': 1.2, 'banana': 2.5, 'orange': 3.0, 'kiwi': 4.0}\n",
    "\n",
    "## Expected Output:\n",
    "\n",
    "## {'banana': 2.5, 'orange': 3.0, 'kiwi': 4.0}\n",
    "\n",
    "\n",
    "filtered_fruits = {key: price for key, price in fruits.items() if price > 2}\n",
    "\n",
    "print(filtered_fruits)\n"
   ]
  },
  {
   "cell_type": "code",
   "execution_count": 6,
   "metadata": {},
   "outputs": [
    {
     "name": "stdout",
     "output_type": "stream",
     "text": [
      "{101: 'Alice', 102: 'Bob', 103: 'Charlie'}\n"
     ]
    }
   ],
   "source": [
    "## Task 1.3: Employee ID to Name Mapping\n",
    "## Given a list of employee dictionaries, create a dictionary mapping each employee's ID to their name.\n",
    "\n",
    "employees = [\n",
    "    {\"id\": 101, \"name\": \"Alice\", \"age\": 30},\n",
    "    {\"id\": 102, \"name\": \"Bob\", \"age\": 25},\n",
    "    {\"id\": 103, \"name\": \"Charlie\", \"age\": 35}\n",
    "]\n",
    "## Expected Output:\n",
    "\n",
    "## {101: 'Alice', 102: 'Bob', 103: 'Charlie'}\n",
    "\n",
    "filtered_id = {employee[\"id\"]: employee[\"name\"] for employee in employees}\n",
    "\n",
    "print(filtered_id)"
   ]
  },
  {
   "cell_type": "code",
   "execution_count": 7,
   "metadata": {},
   "outputs": [
    {
     "name": "stdout",
     "output_type": "stream",
     "text": [
      "{101: 30, 103: 35}\n"
     ]
    }
   ],
   "source": [
    "## Task 1.4: Filtered Employee ID to Age Mapping\n",
    "# From the same list of employee dictionaries, create a dictionary mapping employee IDs to ages, but only include those over 28.\n",
    "\n",
    "# Expected Output:\n",
    "\n",
    "# {101: 30, 103: 35}\n",
    "\n",
    "filtered_id = {employee[\"id\"]: employee[\"age\"] for employee in employees if employee[\"age\"] > 28}\n",
    "\n",
    "print(filtered_id)"
   ]
  },
  {
   "cell_type": "code",
   "execution_count": null,
   "metadata": {},
   "outputs": [],
   "source": [
    "def driving_test(name, age):\n",
    "    if age >= 18:\n",
    "        return f\"{name} is eligible for driving.\"\n",
    "    else:\n",
    "        return \"Try again after a few years 👶🏻🍼\"\n",
    "\n",
    "\n",
    "# Test cases\n",
    "print(driving_test(\"Anita\", 20))  # Case 1: Eligible\n",
    "print(driving_test(\"Tom\", 16))  # Case 2: Not eligible\n"
   ]
  },
  {
   "cell_type": "code",
   "execution_count": null,
   "metadata": {},
   "outputs": [
    {
     "name": "stdout",
     "output_type": "stream",
     "text": [
      "🥕\n",
      "🥕🥕\n",
      "🥕🥕🥕\n",
      "🥕🥕🥕🥕\n",
      "🥕🥕🥕🥕🥕\n",
      "None\n",
      "🥔\n",
      "🥔🥔\n",
      "🥔🥔🥔\n"
     ]
    }
   ],
   "source": [
    "## Task 3\n",
    "\n",
    "def pattern(emoji, n):\n",
    "    for i in range(1, n + 1):\n",
    "        print(emoji * i)\n",
    "\n",
    "\n",
    "pattern(\"🥕\", 5)\n",
    "pattern(\"🥔\", 3)\n"
   ]
  },
  {
   "cell_type": "code",
   "execution_count": null,
   "metadata": {},
   "outputs": [],
   "source": [
    "## Task 4\n",
    "\n",
    "def greet(name):\n",
    "    return f\"Hi {name}! 👋\"\n",
    "\n",
    "names = [\"Anita\", \"Jamie\", \"Divyali\", \"Siyanda\"]\n",
    "\n",
    "for name in names:\n",
    "    print(greet(name))\n"
   ]
  },
  {
   "cell_type": "code",
   "execution_count": null,
   "metadata": {},
   "outputs": [],
   "source": [
    "# Output\n",
    "# Welcome to our Library app\n",
    "# Main menu:\n",
    "# 1. Add book to the library\n",
    "# 2. Print all the books\n",
    "# 3. Exit\n",
    "\n",
    "# Please choose an option: 1\n",
    "# Please tell me the title?\n",
    "# Please tell me the author?\n",
    "# Please tell me the year?\n",
    "# Please tell me the available?\n",
    "\n",
    "# Successfully added 😄✅\n",
    "\n",
    "# Main menu:\n",
    "# 1. Add book to the library\n",
    "# 2. Print all the books\n",
    "# 3. Exit\n",
    "\n",
    "# Please choose an option: 2\n",
    "\n",
    "[\n",
    "    {\n",
    "        \"title\": \"Python Programming\",\n",
    "        \"author\": \"Eric Matthes\",\n",
    "        \"year\": 2019,\n",
    "        \"available\": True,\n",
    "    },\n",
    "    {\n",
    "        \"title\": \"Automate the Boring Stuff with Python\",\n",
    "        \"author\": \"Al Sweigart\",\n",
    "        \"year\": 2020,\n",
    "        \"available\": True,\n",
    "    },\n",
    "    {\n",
    "        \"title\": \"Learning Python I\",\n",
    "        \"author\": \"Mark Lutz\",\n",
    "        \"year\": 2013,\n",
    "        \"available\": False,\n",
    "    },\n",
    "    {\n",
    "        \"title\": \"Fluent Python\",\n",
    "        \"author\": \"Luciano Ramalho\",\n",
    "        \"year\": 2015,\n",
    "        \"available\": True,\n",
    "    },\n",
    "    {\n",
    "        \"title\": \"Adavance Python\",\n",
    "        \"author\": \"Mark Lutz\",\n",
    "        \"year\": 2015,\n",
    "        \"available\": False,\n",
    "    },\n",
    "]\n",
    "\n",
    "# Main menu:\n",
    "# 1. Add book to the library\n",
    "# 2. Print all the books\n",
    "# 3. Exit\n",
    "\n",
    "# Bye 😄👋\n"
   ]
  }
 ],
 "metadata": {
  "kernelspec": {
   "display_name": ".venv",
   "language": "python",
   "name": "python3"
  },
  "language_info": {
   "codemirror_mode": {
    "name": "ipython",
    "version": 3
   },
   "file_extension": ".py",
   "mimetype": "text/x-python",
   "name": "python",
   "nbconvert_exporter": "python",
   "pygments_lexer": "ipython3",
   "version": "3.11.8"
  }
 },
 "nbformat": 4,
 "nbformat_minor": 2
}
