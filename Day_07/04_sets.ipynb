{
 "cells": [
  {
   "cell_type": "code",
   "execution_count": 1,
   "metadata": {},
   "outputs": [
    {
     "name": "stdout",
     "output_type": "stream",
     "text": [
      "{1, 2, 3, 4} <class 'set'>\n"
     ]
    }
   ],
   "source": [
    "nums = {1, 2, 3, 4}\n",
    "\n",
    "print(nums, type(nums))"
   ]
  },
  {
   "cell_type": "markdown",
   "metadata": {},
   "source": [
    "# No duplicates allowed with set\n",
    "# Order not guaranteed"
   ]
  },
  {
   "cell_type": "code",
   "execution_count": 3,
   "metadata": {},
   "outputs": [
    {
     "name": "stdout",
     "output_type": "stream",
     "text": [
      "{1, 2, 3, 100, 4, 5} [100, 1, 2, 3, 4, 5, 5]\n"
     ]
    }
   ],
   "source": [
    "nums  = {100, 1, 2, 3, 4, 5, 5}\n",
    "nums1 = [100, 1, 2, 3, 4, 5, 5]\n",
    "print(nums, nums1)"
   ]
  },
  {
   "cell_type": "code",
   "execution_count": null,
   "metadata": {},
   "outputs": [
    {
     "name": "stdout",
     "output_type": "stream",
     "text": [
      "<class 'dict'>\n"
     ]
    }
   ],
   "source": [
    "x = {} # not empty set because of brackets\n",
    "\n",
    "print(type(x))"
   ]
  },
  {
   "cell_type": "code",
   "execution_count": null,
   "metadata": {},
   "outputs": [
    {
     "name": "stdout",
     "output_type": "stream",
     "text": [
      "<class 'set'>\n"
     ]
    }
   ],
   "source": [
    "y = set()  # empty set\n",
    "\n",
    "print(type(y))"
   ]
  },
  {
   "cell_type": "code",
   "execution_count": 7,
   "metadata": {},
   "outputs": [
    {
     "data": {
      "text/plain": [
       "{'e-reader', 'laptop', 'smartphone', 'smartwatch', 'tablet'}"
      ]
     },
     "execution_count": 7,
     "metadata": {},
     "output_type": "execute_result"
    }
   ],
   "source": [
    "tech_gadgets = {\"smartphone\", \"laptop\", \"smartwatch\", \"tablet\"}\n",
    "tech_gadgets.add(\"e-reader\")\n",
    "tech_gadgets"
   ]
  },
  {
   "cell_type": "code",
   "execution_count": null,
   "metadata": {},
   "outputs": [
    {
     "data": {
      "text/plain": [
       "{'drone', 'e-reader', 'laptop', 'selfie stick', 'smartwatch', 'tablet'}"
      ]
     },
     "execution_count": 15,
     "metadata": {},
     "output_type": "execute_result"
    }
   ],
   "source": [
    "tech_gadgets = {\"smartphone\", \"laptop\", \"smartwatch\", \"tablet\"}\n",
    "tech_gadgets.add(\"e-reader\")\n",
    "\n",
    "more_gadgets = [\"drone\", \"selfie stick\"]\n",
    "\n",
    "tech_gadgets.update(more_gadgets)\n",
    "nice_gadgets = tech_gadgets\n",
    "\n",
    "# deleting items\n",
    "tech_gadgets.remove(\"smartphone\")  # avoid remove method\n",
    "tech_gadgets"
   ]
  },
  {
   "cell_type": "code",
   "execution_count": 20,
   "metadata": {},
   "outputs": [
    {
     "name": "stdout",
     "output_type": "stream",
     "text": [
      "{'🟢 green', '💗 pink', '🔵 blue', '🔴 red'}\n"
     ]
    }
   ],
   "source": [
    "#Task\n",
    "# Remove the duplicates\n",
    "colors = [\"🔴 red\", \"🔵 blue\", \"🔴 red\", \"🟢 green\", \"💗 pink\", \"🔵 blue\"]\n",
    "\n",
    "\n",
    "# \"🔴 red\", \"🔵 blue\", \"🟢 green\", \"💗 pink\"\n",
    "\n",
    "print(set(colors))"
   ]
  },
  {
   "cell_type": "code",
   "execution_count": 21,
   "metadata": {},
   "outputs": [
    {
     "name": "stdout",
     "output_type": "stream",
     "text": [
      "['🔴 red', '🔵 blue', '🟢 green', '💗 pink']\n"
     ]
    }
   ],
   "source": [
    "unique_colors = []\n",
    "for color in colors:\n",
    "    if color not in unique_colors:\n",
    "        unique_colors.append(color)\n",
    "\n",
    "print(unique_colors)\n"
   ]
  },
  {
   "cell_type": "markdown",
   "metadata": {},
   "source": [
    "## Methods of set"
   ]
  },
  {
   "cell_type": "code",
   "execution_count": 27,
   "metadata": {},
   "outputs": [
    {
     "name": "stdout",
     "output_type": "stream",
     "text": [
      "{'cycling'}\n",
      "{'cycling', 'swimming', 'hiking', 'reading', 'gaming'}\n",
      "{'hiking', 'swimming'}\n"
     ]
    }
   ],
   "source": [
    "outdoor_activities = {\"hiking\", \"cycling\", \"swimming\"}\n",
    "indoor_activities = {\"gaming\", \"reading\", \"cycling\"}\n",
    "\n",
    "print(outdoor_activities.intersection(indoor_activities))\n",
    "print(outdoor_activities.union(indoor_activities))\n",
    "print(outdoor_activities.difference(indoor_activities))"
   ]
  },
  {
   "cell_type": "markdown",
   "metadata": {},
   "source": [
    "## Symmetric difference"
   ]
  },
  {
   "cell_type": "code",
   "execution_count": 28,
   "metadata": {},
   "outputs": [
    {
     "name": "stdout",
     "output_type": "stream",
     "text": [
      "{'swimming', 'gaming', 'hiking', 'reading'}\n"
     ]
    }
   ],
   "source": [
    "print(indoor_activities.symmetric_difference(outdoor_activities))"
   ]
  },
  {
   "cell_type": "markdown",
   "metadata": {},
   "source": [
    "# Binary Operator (2 operands)\n",
    " - Arithmetic - +, -, *, **, %\n",
    " - Logical - and, or\n",
    " - Comparison - >, <, <=, ==\n",
    "\n",
    "# Uninary operator (1 operand)\n",
    "- Unpacking\n",
    "- not\n"
   ]
  }
 ],
 "metadata": {
  "kernelspec": {
   "display_name": ".venv",
   "language": "python",
   "name": "python3"
  },
  "language_info": {
   "codemirror_mode": {
    "name": "ipython",
    "version": 3
   },
   "file_extension": ".py",
   "mimetype": "text/x-python",
   "name": "python",
   "nbconvert_exporter": "python",
   "pygments_lexer": "ipython3",
   "version": "3.11.8"
  }
 },
 "nbformat": 4,
 "nbformat_minor": 2
}
