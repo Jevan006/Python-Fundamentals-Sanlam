{
 "cells": [
  {
   "cell_type": "code",
   "execution_count": null,
   "metadata": {},
   "outputs": [],
   "source": [
    "inventory = [\n",
    "    {\"name\": \"Apple 🍎\", \"quantity\": 30, \"price\": 0.5},\n",
    "    {\"name\": \"Banana 🍌\", \"quantity\": 20, \"price\": 0.2},\n",
    "]\n",
    "\n",
    "product_name = input(\"Enter product name to update: \")\n",
    "additional_quantity = int(input(\"Enter additional quantity: \"))\n",
    "new_price = float(input(\"Enter new price: \"))\n",
    "\n",
    "for product in inventory:\n",
    "    if product[\"name\"] == product_name:\n",
    "        product[\"quantity\"] += additional_quantity\n",
    "        product[\"price\"] = new_price\n",
    "        print(f\"Updated {product_name} successfully! 🎉\")\n",
    "        print(\"Updated Inventory:\", inventory)\n",
    "        break\n",
    "else:\n",
    "    print(f\"Product {product_name} not found in inventory.\")\n"
   ]
  }
 ],
 "metadata": {
  "kernelspec": {
   "display_name": ".venv",
   "language": "python",
   "name": "python3"
  },
  "language_info": {
   "codemirror_mode": {
    "name": "ipython",
    "version": 3
   },
   "file_extension": ".py",
   "mimetype": "text/x-python",
   "name": "python",
   "nbconvert_exporter": "python",
   "pygments_lexer": "ipython3",
   "version": "3.11.8"
  }
 },
 "nbformat": 4,
 "nbformat_minor": 2
}
