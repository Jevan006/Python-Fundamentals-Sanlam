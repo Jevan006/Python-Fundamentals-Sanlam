{
 "cells": [
  {
   "cell_type": "code",
   "execution_count": 2,
   "metadata": {},
   "outputs": [
    {
     "name": "stdout",
     "output_type": "stream",
     "text": [
      "Inganathi's salary is R1,500,000\n",
      "Inganathi's salary is R1_500_000\n"
     ]
    }
   ],
   "source": [
    "salary = 1_500_000  # DX ⬆️\n",
    "\n",
    "print(f\"Inganathi's salary is R{salary:,}\") # UX ⬆️\n",
    "print(f\"Inganathi's salary is R{salary:_}\")"
   ]
  },
  {
   "cell_type": "code",
   "execution_count": 7,
   "metadata": {},
   "outputs": [
    {
     "name": "stdout",
     "output_type": "stream",
     "text": [
      "3.141592653589793\n",
      "The PI value is: 3\n",
      "The PI value is: 3.14\n",
      "The PI value is: 3.14\n",
      "6.123233995736766e-17\n"
     ]
    }
   ],
   "source": [
    "from math import pi, cos  # importing from inbuilt package\n",
    "# from <package_name> import <values>, <function>\n",
    "\n",
    "print(pi)\n",
    "print(f\"The PI value is: {round(pi)}\")\n",
    "print(f\"The PI value is: {round(pi, 2)}\")\n",
    "print(f\"The PI value is: {pi:.2f}\")\n",
    "print(cos(pi / 2))"
   ]
  },
  {
   "cell_type": "code",
   "execution_count": 9,
   "metadata": {},
   "outputs": [
    {
     "name": "stdout",
     "output_type": "stream",
     "text": [
      "Ethan's salary is R1,000,000.378\n",
      "Ethan's salary is R1_000_000.378\n"
     ]
    }
   ],
   "source": [
    "# Round off decimal points and comma seperator\n",
    "print(f\"Ethan's salary is R{1000000.377877:,.3f}\")\n",
    "print(f\"Ethan's salary is R{1000000.377877:_.3f}\")"
   ]
  },
  {
   "cell_type": "code",
   "execution_count": 11,
   "metadata": {},
   "outputs": [
    {
     "name": "stdout",
     "output_type": "stream",
     "text": [
      "              Diyali:\n",
      "Diyali              :\n",
      "       Diyali       :\n",
      "🍓🍓🍓🍓🍓🍓🍓🍓🍓🍓🍓🍓🍓🍓Diyali:\n",
      "Diyali🍎🍎🍎🍎🍎🍎🍎🍎🍎🍎🍎🍎🍎🍎:\n",
      "🥷🥷🥷🥷🥷🥷🥷Diyali🥷🥷🥷🥷🥷🥷🥷:\n"
     ]
    }
   ],
   "source": [
    "# Text - <space>\n",
    "name = \"Diyali\"\n",
    "print(f\"{name:>20}:\")\n",
    "print(f\"{name:<20}:\")\n",
    "print(f\"{name:^20}:\")\n",
    "print(f\"{name:🍓>20}:\")\n",
    "print(f\"{name:🍎<20}:\")\n",
    "print(f\"{name:🥷^20}:\")"
   ]
  },
  {
   "cell_type": "code",
   "execution_count": 15,
   "metadata": {},
   "outputs": [
    {
     "name": "stdout",
     "output_type": "stream",
     "text": [
      "2025-03-03 13:52:40.035201\n",
      "The current date is: 03-03-2025\n",
      "The current date is: 03/03/2025\n",
      "The current date is: 03-March-2025\n",
      "The current date is: 03-Mar-2025\n"
     ]
    }
   ],
   "source": [
    "from datetime import datetime  # Imports actually has to be on top of the file always\n",
    "now = datetime.now()\n",
    "print(now)\n",
    "\n",
    "print(f\"The current date is: {now:%d-%m-%Y}\")\n",
    "print(f\"The current date is: {now:%d/%m/%Y}\")\n",
    "print(f\"The current date is: {now:%d-%B-%Y}\")\n",
    "print(f\"The current date is: {now:%d-%b-%Y}\")"
   ]
  },
  {
   "cell_type": "code",
   "execution_count": 19,
   "metadata": {},
   "outputs": [
    {
     "name": "stdout",
     "output_type": "stream",
     "text": [
      "======= Spaghetti Carbonara =======\n",
      "- 200g spaghetti\n",
      "- 100g pancetta\n",
      "- 2 eggs\n",
      "- 1/2 cup grated Parmesan\n",
      "- 1 clove garlic\n",
      "Serves: 4 people\n"
     ]
    }
   ],
   "source": [
    "\n",
    "recipe = {\n",
    "    \"name\": \"Spaghetti Carbonara\",\n",
    "    \"servings\": 4,\n",
    "    \"ingredients\": [\n",
    "        \"200g spaghetti\",\n",
    "        \"100g pancetta\",\n",
    "        \"2 eggs\",\n",
    "        \"1/2 cup grated Parmesan\",\n",
    "        \"1 clove garlic\",\n",
    "    ],\n",
    "}\n",
    "\n",
    "# Task 1\n",
    "# ======= Spaghetti Carbonara =======\n",
    "# - 200g spaghetti\n",
    "# - 100g pancetta\n",
    "# - 2 eggs\n",
    "# - 1/2 cup grated Parmesan\n",
    "# - 1 clove garlic\n",
    "# Serves: 4 people\n",
    "\n",
    "def display_recipe(recipe):\n",
    "    print(f\"======= {recipe['name']} =======\")\n",
    "    for ingredient in recipe[\"ingredients\"]:\n",
    "        print(f\"- {ingredient}\")\n",
    "    print(f\"Serves: {recipe['servings']} people\")\n",
    "\n",
    "\n",
    "# Example usage:\n",
    "recipe = {\n",
    "    \"name\": \"Spaghetti Carbonara\",\n",
    "    \"servings\": 4,\n",
    "    \"ingredients\": [\n",
    "        \"200g spaghetti\",\n",
    "        \"100g pancetta\",\n",
    "        \"2 eggs\",\n",
    "        \"1/2 cup grated Parmesan\",\n",
    "        \"1 clove garlic\",\n",
    "    ],\n",
    "}\n",
    "\n",
    "display_recipe(recipe)"
   ]
  }
 ],
 "metadata": {
  "kernelspec": {
   "display_name": ".venv",
   "language": "python",
   "name": "python3"
  },
  "language_info": {
   "codemirror_mode": {
    "name": "ipython",
    "version": 3
   },
   "file_extension": ".py",
   "mimetype": "text/x-python",
   "name": "python",
   "nbconvert_exporter": "python",
   "pygments_lexer": "ipython3",
   "version": "3.11.8"
  }
 },
 "nbformat": 4,
 "nbformat_minor": 2
}
