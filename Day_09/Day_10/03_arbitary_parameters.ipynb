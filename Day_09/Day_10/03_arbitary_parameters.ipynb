{
 "cells": [
  {
   "cell_type": "code",
   "execution_count": null,
   "metadata": {},
   "outputs": [],
   "source": [
    "def own_max(*nums):  # * -> Collect all the arguments\n",
    "    # Write normal for loop and return max value\n",
    "    pass\n",
    "\n",
    "\n",
    "own_max(9, 6)\n",
    "own_max(3, 4, 5, 6)\n",
    "own_max(3, 4, 5, 6, 7, 2, 3, 10, 1)\n"
   ]
  },
  {
   "cell_type": "code",
   "execution_count": 1,
   "metadata": {},
   "outputs": [
    {
     "name": "stdout",
     "output_type": "stream",
     "text": [
      "9\n",
      "6\n",
      "10\n",
      "No numbers provided\n"
     ]
    }
   ],
   "source": [
    "def own_max(*nums):  # *nums collects all arguments into a tuple\n",
    "    if not nums:  # Check if no arguments were given\n",
    "        return \"No numbers provided\"\n",
    "\n",
    "    max_value = nums[0]  # Assume the first number is the max\n",
    "    for num in nums:  # Iterate through all numbers\n",
    "        if num > max_value:\n",
    "            max_value = num  # Update max_value if a larger number is found\n",
    "    return max_value  # Return the maximum number\n",
    "\n",
    "\n",
    "# Test cases\n",
    "print(own_max(9, 6))  # 9\n",
    "print(own_max(3, 4, 5, 6))  # 6\n",
    "print(own_max(3, 4, 5, 6, 7, 2, 3, 10, 1))  # 10\n",
    "print(own_max())  # \"No numbers provided\"\n"
   ]
  },
  {
   "cell_type": "code",
   "execution_count": null,
   "metadata": {},
   "outputs": [],
   "source": [
    "def mood_report(mood=\"🙂\", time_of_day=\"morning 🌅\"):\n",
    "    return f\"Feeling {mood} this {time_of_day}.\"\n",
    "\n",
    "\n",
    "# Example outputs:\n",
    "print(mood_report())  # \"Feeling 🙂 this morning 🌅.\"\n",
    "print(\n",
    "    mood_report(mood=\"😎\", time_of_day=\"afternoon ☀️\")\n",
    ")  # \"Feeling 😎 this afternoon ☀️.\"\n"
   ]
  },
  {
   "cell_type": "code",
   "execution_count": null,
   "metadata": {},
   "outputs": [],
   "source": [
    "## Task 1.2\n",
    "\n",
    "books = [\n",
    "    {\"title\": \"1984\", \"author\": \"George Orwell\", \"year\": 1949},\n",
    "    {\"author\": \"J.K. Rowling\"},  # Missing title and year\n",
    "    {\"title\": \"The Great Gatsby\", \"author\": \"F. Scott Fitzgerald\", \"year\": 1925},\n",
    "    {\"title\": \"To Kill a Mockingbird\", \"year\": 1960},  # Missing author\n",
    "    {\"author\": \"Ernest Hemingway\", \"year\": 1952},  # Missing title\n",
    "]\n",
    "\n",
    "default_book = {\"title\": \"Untitled\", \"author\": \"Unknown\", \"year\": \"N/A\"}\n",
    "\n",
    "for book in books:\n",
    "    full_book = {\n",
    "        **default_book,\n",
    "        **book,\n",
    "    }  # Unpack defaults first, then override with actual values\n",
    "    print(f\"'{full_book['title']}' by {full_book['author']} ({full_book['year']})\")\n"
   ]
  },
  {
   "cell_type": "code",
   "execution_count": null,
   "metadata": {},
   "outputs": [],
   "source": [
    "## Task 1.2 Alternative\n",
    "\n",
    "books = [\n",
    "    {\"title\": \"1984\", \"author\": \"George Orwell\", \"year\": 1949},\n",
    "    {\"author\": \"J.K. Rowling\"},  # Missing title and year\n",
    "    {\"title\": \"The Great Gatsby\", \"author\": \"F. Scott Fitzgerald\", \"year\": 1925},\n",
    "    {\"title\": \"To Kill a Mockingbird\", \"year\": 1960},  # Missing author\n",
    "    {\"author\": \"Ernest Hemingway\", \"year\": 1952},  # Missing title\n",
    "]\n",
    "\n",
    "for book in books:\n",
    "    title = book.get(\"title\", \"Untitled\")\n",
    "    author = book.get(\"author\", \"Unknown\")\n",
    "    year = book.get(\"year\", \"N/A\")\n",
    "    print(f\"'{title}' by {author} ({year})\")\n"
   ]
  },
  {
   "cell_type": "code",
   "execution_count": null,
   "metadata": {},
   "outputs": [],
   "source": [
    "def fun1(s1, s2, *emoji):  # Unpacking on parameter (Arbitrary parameter)\n",
    "    print(s1, s2, emoji)\n",
    "\n",
    "\n",
    "# fun(\"👋\" , '😄' , \"👋\", \"✅\", \"🥔\", \"🥕\")\n",
    "\n",
    "\n",
    "cool_emojis = [\"😄\", \"👋\", \"✅\", \"🥔\"]\n",
    "\n",
    "\n",
    "def fun2(s1, s2, s3, s4):\n",
    "    print(s1, s2, s3, s4)\n",
    "\n",
    "\n",
    "fun2(cool_emojis[0], cool_emojis[1], cool_emojis[2], cool_emojis[3])\n",
    "# fun2(cool_emojis) # Args < Parameters\n",
    "fun2(*cool_emojis)  # Unpacking Pos Args\n",
    "\n",
    "book = {\"author\": \"Anita\", \"title\": \"Python Part I\"}\n",
    "\n",
    "\n",
    "def fun3(author, title):\n",
    "    print(author, title)\n",
    "\n",
    "\n",
    "fun3(title=book[\"title\"], author=book[\"author\"])\n",
    "fun3(**book)  # Unpacking Keyword Args\n"
   ]
  }
 ],
 "metadata": {
  "kernelspec": {
   "display_name": ".venv",
   "language": "python",
   "name": "python3"
  },
  "language_info": {
   "codemirror_mode": {
    "name": "ipython",
    "version": 3
   },
   "file_extension": ".py",
   "mimetype": "text/x-python",
   "name": "python",
   "nbconvert_exporter": "python",
   "pygments_lexer": "ipython3",
   "version": "3.11.8"
  }
 },
 "nbformat": 4,
 "nbformat_minor": 2
}
