{
 "cells": [
  {
   "cell_type": "code",
   "execution_count": 4,
   "metadata": {},
   "outputs": [
    {
     "name": "stdout",
     "output_type": "stream",
     "text": [
      "[4, 8, 11, 15, 10, 4]\n"
     ]
    }
   ],
   "source": [
    "avengers = [\n",
    "    \"Hulk\",\n",
    "    \"Iron man\",\n",
    "    \"Black widow\",\n",
    "    \"Captain america\",\n",
    "    \"Spider man\",\n",
    "    \"Thor\",\n",
    "]\n",
    "\n",
    "# Task (map or filter)\n",
    "# Number letter in the name\n",
    "# [4, 8, 11, 15, 10, 4]\n",
    "\n",
    "\n",
    "avengers = [\n",
    "    \"Hulk\",\n",
    "    \"Iron man\",\n",
    "    \"Black widow\",\n",
    "    \"Captain america\",\n",
    "    \"Spider man\",\n",
    "    \"Thor\",\n",
    "]\n",
    "\n",
    "name_lengths = (map(lambda name: len(name), avengers))\n",
    "print(list(name_lengths))  # Output: [4, 8, 11, 15, 10, 4]\n"
   ]
  },
  {
   "cell_type": "code",
   "execution_count": null,
   "metadata": {},
   "outputs": [
    {
     "name": "stdout",
     "output_type": "stream",
     "text": [
      "['Black widow', 'Captain america']\n"
     ]
    }
   ],
   "source": [
    "#Task 1.2\n",
    "\n",
    "#Find longer names more the 10 letters name and stored in a new list\n",
    "\n",
    "#Output\n",
    "#[\"Black widow\", \"Captain america\"]\n",
    "\n",
    "long_names = (filter(lambda name: len(name) > 10, avengers))\n",
    "print(list(long_names))  # Output: [\"Black widow\", \"Captain america\"]\n"
   ]
  },
  {
   "cell_type": "markdown",
   "metadata": {},
   "source": [
    "Task 1.3\n",
    "\n",
    "Find the passed student's names (pass criteria >= 40)\n",
    "\n",
    "Output [\"Lillian Ellis\", \"Debra Beard\", \"Nettie Hancock\" ]"
   ]
  },
  {
   "cell_type": "code",
   "execution_count": 7,
   "metadata": {},
   "outputs": [
    {
     "name": "stdout",
     "output_type": "stream",
     "text": [
      "['Lillian Ellis', 'Debra Beard', 'Nettie Hancock']\n"
     ]
    }
   ],
   "source": [
    "scores = [\n",
    "    {\n",
    "        \"marks\": 32,\n",
    "        \"name\": \"Yvette Merritt\",\n",
    "    },\n",
    "    {\n",
    "        \"marks\": 57,\n",
    "        \"name\": \"Lillian Ellis\",\n",
    "    },\n",
    "    {\n",
    "        \"marks\": 22,\n",
    "        \"name\": \"Mccall Carter\",\n",
    "    },\n",
    "    {\n",
    "        \"marks\": 21,\n",
    "        \"name\": \"Pate Collier\",\n",
    "    },\n",
    "    {\n",
    "        \"marks\": 91,\n",
    "        \"name\": \"Debra Beard\",\n",
    "    },\n",
    "    {\n",
    "        \"marks\": 75,\n",
    "        \"name\": \"Nettie Hancock\",\n",
    "    },\n",
    "    {\n",
    "        \"marks\": 20,\n",
    "        \"name\": \"Hatfield Hodge\",\n",
    "    },\n",
    "]\n",
    "\n",
    "promoted = (filter(lambda student: student[\"marks\"] >= 40, scores))\n",
    "\n",
    "promoted_names = (map(lambda student: student[\"name\"], promoted))\n",
    "print(list(promoted_names))"
   ]
  },
  {
   "cell_type": "markdown",
   "metadata": {},
   "source": [
    "Find the topper\n",
    "\n",
    "Clue: Use sorted()\n",
    "\n",
    "Output Debra Beard"
   ]
  },
  {
   "cell_type": "code",
   "execution_count": null,
   "metadata": {},
   "outputs": [],
   "source": [
    "topper = filter(lambda student: student[\"marks\"] >= 40, scores)\n",
    "\n",
    "topper_name = map(lambda student: student[\"name\"], topper)\n",
    "print(list(topper_name))\n"
   ]
  }
 ],
 "metadata": {
  "kernelspec": {
   "display_name": ".venv",
   "language": "python",
   "name": "python3"
  },
  "language_info": {
   "codemirror_mode": {
    "name": "ipython",
    "version": 3
   },
   "file_extension": ".py",
   "mimetype": "text/x-python",
   "name": "python",
   "nbconvert_exporter": "python",
   "pygments_lexer": "ipython3",
   "version": "3.11.8"
  }
 },
 "nbformat": 4,
 "nbformat_minor": 2
}
