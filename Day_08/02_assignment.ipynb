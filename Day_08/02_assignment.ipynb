{
 "cells": [
  {
   "cell_type": "markdown",
   "metadata": {},
   "source": [
    "## Assignment\n",
    "\n",
    "\n",
    "## Invoice Date: 03 March 2025\n",
    "\n",
    "Product               Qty     Unit Price          Total\n",
    "-------------------------------------------------------\n",
    "Widget A               10           2.50          25.00\n",
    "Widget B                5          15.75          78.75\n",
    "Gadget                  2          99.99         199.98\n",
    "-------------------------------------------------------\n",
    "Grand Total                                      303.73\n",
    "\n",
    "\n",
    "from datetime import datetime\n",
    "\n",
    "items = [\n",
    "    {\"name\": \"Widget A\", \"quantity\": 10, \"price\": 2.5},\n",
    "    {\"name\": \"Widget B\", \"quantity\": 5, \"price\": 15.75},\n",
    "    {\"name\": \"Gadget\", \"quantity\": 2, \"price\": 99.99}\n",
    "]\n",
    "\n",
    "def print_invoice(invoice_date, items):\n",
    "    pass\n",
    "\n",
    "## Invoice Date: 03 March 2025\n",
    "\n",
    "Product               Qty     Unit Price          Total\n",
    "-------------------------------------------------------\n",
    "Widget A               10           2.50          25.00\n",
    "Widget B                5          15.75          78.75\n",
    "Gadget                  2          99.99         199.98\n",
    "-------------------------------------------------------\n",
    "Grand Total                                      303.73\n"
   ]
  },
  {
   "cell_type": "code",
   "execution_count": 1,
   "metadata": {},
   "outputs": [
    {
     "name": "stdout",
     "output_type": "stream",
     "text": [
      "Invoice Date: 03 March 2025\n",
      "\n",
      "Product              Qty     Unit Price           Total\n",
      "-------------------------------------------------------\n",
      "Widget A             10      2.50                 25.00\n",
      "Widget B             5       15.75                78.75\n",
      "Gadget               2       99.99               199.98\n",
      "-------------------------------------------------------\n",
      "Grand Total                                  303.73\n"
     ]
    }
   ],
   "source": [
    "from datetime import datetime\n",
    "\n",
    "\n",
    "def print_invoice(invoice_date, items):\n",
    "    print(f\"Invoice Date: {invoice_date}\\n\")\n",
    "    print(f\"{'Product':<20} {'Qty':<7} {'Unit Price':<15} {'Total':>10}\")\n",
    "    print(f\"{'':-<55}\")\n",
    "    grand_total = 0\n",
    "\n",
    "    for item in items:\n",
    "        total_price = item[\"quantity\"] * item[\"price\"]\n",
    "        grand_total += total_price\n",
    "        print(\n",
    "            f\"{item['name']:<20} {item['quantity']:<7} {item['price']:<15.2f} {total_price:>10.2f}\"\n",
    "        )\n",
    "\n",
    "    print(f\"{'':-<55}\")\n",
    "    print(f\"Grand Total {grand_total:>39.2f}\")\n",
    "\n",
    "\n",
    "invoice_date = \"03 March 2025\"\n",
    "items = [\n",
    "    {\"name\": \"Widget A\", \"quantity\": 10, \"price\": 2.5},\n",
    "    {\"name\": \"Widget B\", \"quantity\": 5, \"price\": 15.75},\n",
    "    {\"name\": \"Gadget\", \"quantity\": 2, \"price\": 99.99},\n",
    "]\n",
    "\n",
    "print_invoice(invoice_date, items)\n"
   ]
  }
 ],
 "metadata": {
  "kernelspec": {
   "display_name": ".venv",
   "language": "python",
   "name": "python3"
  },
  "language_info": {
   "codemirror_mode": {
    "name": "ipython",
    "version": 3
   },
   "file_extension": ".py",
   "mimetype": "text/x-python",
   "name": "python",
   "nbconvert_exporter": "python",
   "pygments_lexer": "ipython3",
   "version": "3.11.8"
  }
 },
 "nbformat": 4,
 "nbformat_minor": 2
}
