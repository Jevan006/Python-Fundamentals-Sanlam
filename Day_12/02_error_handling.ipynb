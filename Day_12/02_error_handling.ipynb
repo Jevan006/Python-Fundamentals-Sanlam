{
 "cells": [
  {
   "cell_type": "code",
   "execution_count": 26,
   "metadata": {},
   "outputs": [
    {
     "name": "stdout",
     "output_type": "stream",
     "text": [
      "2.0\n",
      "2.0\n"
     ]
    }
   ],
   "source": [
    "# Exception Handling\n",
    "# Try and except\n",
    "\n",
    "def math_divide(n1, n2):\n",
    "    try:\n",
    "        result = n1/n2  # Lines likely to be error\n",
    "        print (result)\n",
    "    except ZeroDivisionError:\n",
    "        print(\"Something bad happened\")\n",
    "    return result\n",
    "\n",
    "print(math_divide(10, 5))\n",
    "#print(math_divide(10, 0))  #ZeroDiivisionError: division by zero ❌"
   ]
  },
  {
   "cell_type": "code",
   "execution_count": 27,
   "metadata": {},
   "outputs": [],
   "source": [
    "# birth_year = int(input(\"Please provide your birth year: \"))\n",
    "# print(f\"Your age is {2025 - birth_year}\")\n",
    "\n",
    "# calculate_age\n",
    "# Clue: datetime\n",
    "\n",
    "\n",
    "def calculate_age():\n",
    "    pass\n",
    "\n",
    "\n",
    "# Task 1.1\n",
    "# Please tell me your year of birth 2000\n",
    "# Your age is 25\n",
    "\n",
    "\n",
    "# Task 1.2\n",
    "# Handling Error\n"
   ]
  },
  {
   "cell_type": "code",
   "execution_count": 28,
   "metadata": {},
   "outputs": [
    {
     "name": "stdout",
     "output_type": "stream",
     "text": [
      "Your age is 2802\n"
     ]
    }
   ],
   "source": [
    "# Task 1.1\n",
    "\n",
    "from datetime import datetime\n",
    "\n",
    "\n",
    "def calculate_age():\n",
    "    birth_year = int(input(\"Please tell me your year of birth: \"))\n",
    "    current_year = datetime.now().year\n",
    "    age = current_year - birth_year\n",
    "    print(f\"Your age is {age}\")\n",
    "\n",
    "\n",
    "# Call the function\n",
    "calculate_age()\n"
   ]
  },
  {
   "cell_type": "markdown",
   "metadata": {},
   "source": [
    "## Business Logical Error\n",
    "`raise` -> intentionally throwing errors - because against business logic "
   ]
  },
  {
   "cell_type": "code",
   "execution_count": null,
   "metadata": {},
   "outputs": [
    {
     "name": "stdout",
     "output_type": "stream",
     "text": [
      "Invalid year. Please enter a valid birth year.\n"
     ]
    }
   ],
   "source": [
    "# Task 1.2\n",
    "\n",
    "# Error Scenario\n",
    "# Case 1:\n",
    "# Cannot be -ve: Year cannot be negative\n",
    "# Case 2:\n",
    "# birth_year > current_year:\n",
    "\n",
    "from datetime import datetime\n",
    "\n",
    "def calculate_age():\n",
    "    try:\n",
    "        birth_year = int(input(\"Please tell me your year of birth: \"))\n",
    "        current_year = datetime.now().year\n",
    "\n",
    "        # Validate birth year\n",
    "        if birth_year > current_year:\n",
    "            print(\"Invalid year. Please enter a valid birth year.\")\n",
    "            return\n",
    "        if birth_year < 0:\n",
    "            print(\"Please enter a valid year\")\n",
    "\n",
    "        age = current_year - birth_year\n",
    "        print(f\"Your age is {age}\")\n",
    "\n",
    "    except ValueError as err:\n",
    "        print(\" ❌ Invalid: {err}\")\n",
    "\n",
    "# Call the function\n",
    "calculate_age()\n"
   ]
  },
  {
   "cell_type": "markdown",
   "metadata": {},
   "source": [
    "## Types of errors\n",
    "1. Syntax\n",
    "2. Runtime\n",
    "3. Logical\n",
    "   "
   ]
  },
  {
   "cell_type": "code",
   "execution_count": null,
   "metadata": {},
   "outputs": [],
   "source": [
    "# Create your own Error Class\n",
    "# Exception -> Base class of all errors\n",
    "\n",
    "class NegativeNumberError(Exception):\n",
    "    def __init__(self, value):\n",
    "        self.value = value\n",
    "        self.message = \"Negative numbers are not allowed\"\n",
    "        super().__init__(self.message)\n",
    "\n",
    "# Business Logical\n",
    "def only_positive_num():\n",
    "    try:\n",
    "        x = -10\n",
    "        if x < 0:\n",
    "            raise NegativeNumberError(x)\n",
    "\n",
    "    except NegativeNumberError as err: # Specific\n",
    "        print(f\"❌ Invalid: {err}\")\n",
    "\n",
    "        only_positive_num()"
   ]
  }
 ],
 "metadata": {
  "kernelspec": {
   "display_name": ".venv",
   "language": "python",
   "name": "python3"
  },
  "language_info": {
   "codemirror_mode": {
    "name": "ipython",
    "version": 3
   },
   "file_extension": ".py",
   "mimetype": "text/x-python",
   "name": "python",
   "nbconvert_exporter": "python",
   "pygments_lexer": "ipython3",
   "version": "3.11.8"
  }
 },
 "nbformat": 4,
 "nbformat_minor": 2
}
