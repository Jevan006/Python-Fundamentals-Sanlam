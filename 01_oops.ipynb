{
 "cells": [
  {
   "cell_type": "markdown",
   "metadata": {},
   "source": [
    "# Paradigms (Style of Code)\n",
    "- Function programming\n",
    "- OOP - Object Oriented Programming\n",
    "- Procedural programming\n",
    "- Mathematical programming\n",
    "- "
   ]
  },
  {
   "cell_type": "markdown",
   "metadata": {},
   "source": [
    " Object Oriented Programming\n",
    "\n",
    "# Object\n",
    "# BMW\n",
    "- Wheels - 4\n",
    "- Engine - v8\n",
    "- model - x5\n",
    "- Doors - 4\n",
    " \n",
    "# Jeep\n",
    "- Wheels - 4\n",
    "- Engine - v6\n",
    "- model - wrangler\n",
    "- Doors - 5\n",
    " \n",
    "# Mclaren\n",
    "- Wheels - 4\n",
    "- Engine - v8\n",
    "- model - 650s\n",
    "- Doors - 2"
   ]
  },
  {
   "cell_type": "code",
   "execution_count": 19,
   "metadata": {},
   "outputs": [
    {
     "name": "stdout",
     "output_type": "stream",
     "text": [
      "<__main__.Car object at 0x0000019008E466D0>\n",
      "4\n",
      "v8\n",
      "x5\n",
      "4\n",
      "wrangler\n"
     ]
    }
   ],
   "source": [
    "# Blueprint\n",
    "class Car:\n",
    "    # method init -> Called when you create object\n",
    "    def __init__(self, wheels, engine, model, doors):\n",
    "        # self -> object\n",
    "        self.wheels = wheels\n",
    "        self.engine = engine\n",
    "        self.model = model\n",
    "        self.doors = doors\n",
    "\n",
    "bmw = Car(4, \"v8\", \"x5\", 4)  # bmw -> object\n",
    "jeep = Car(4, \"v6\", \"wrangler\", 5)  # jeep -> object\n",
    "\n",
    "print(bmw)  # Car Object\n",
    "# print(bmw['wheels']) # Error\n",
    "print(bmw.wheels)\n",
    "print(bmw.engine)\n",
    "print(bmw.model)\n",
    "print(bmw.doors)\n",
    "\n",
    "print(jeep.model)\n",
    "\n",
    "jeep = Car(4, \"v6\", \"wrangle\", 5)"
   ]
  },
  {
   "cell_type": "code",
   "execution_count": 20,
   "metadata": {},
   "outputs": [
    {
     "name": "stdout",
     "output_type": "stream",
     "text": [
      "x5\n",
      "wrangler\n",
      "Q7\n",
      "Model S\n"
     ]
    }
   ],
   "source": [
    "class Car:\n",
    "    # method init -> Called when you create object\n",
    "    def __init__(self, wheels, engine, model, doors):\n",
    "        # self -> object\n",
    "        self.wheels = wheels\n",
    "        self.engine = engine\n",
    "        self.model = model\n",
    "        self.doors = doors\n",
    "\n",
    "\n",
    "bmw = Car(4, \"v8\", \"x5\", 4)  # bmw -> object\n",
    "jeep = Car(4, \"v6\", \"wrangler\", 5)  # jeep -> object\n",
    "\n",
    "audi = Car(4, \"v8\", \"Q7\", 4)  # Audi Q7\n",
    "tesla = Car(4, \"electric\", \"Model S\", 4)  # Tesla Model S\n",
    "\n",
    "print(bmw.model)  # Output: x5\n",
    "print(jeep.model)  # Output: wrangler\n",
    "print(audi.model)  # Output: Q7\n",
    "print(tesla.model)  # Output: Model S\n"
   ]
  },
  {
   "cell_type": "markdown",
   "metadata": {},
   "source": [
    "Task 1.1\n",
    "Create a blueprint\n",
    "## Bank\n",
    "1. acc_no\n",
    "2. name\n",
    "3. balance\n",
    "\n",
    "\n",
    "Task 1.2\n",
    "Create 3 accounts\n",
    "- Chleo  - 100_000\n",
    "- diyali - 60_000\n",
    "- jevan - 800_000"
   ]
  },
  {
   "cell_type": "code",
   "execution_count": 21,
   "metadata": {},
   "outputs": [],
   "source": [
    "class Bank:\n",
    "    def __init__(self, acc_no, name, balance):\n",
    "        self.acc_no = acc_no\n",
    "        self.name = name\n",
    "        self.balance = balance\n"
   ]
  },
  {
   "cell_type": "code",
   "execution_count": 22,
   "metadata": {},
   "outputs": [
    {
     "name": "stdout",
     "output_type": "stream",
     "text": [
      "100000\n"
     ]
    }
   ],
   "source": [
    "# Task 1.2\n",
    "\n",
    "\n",
    "class Bank:\n",
    "    def __init__(self, acc_no, name, balance):\n",
    "        self.acc_no = acc_no\n",
    "        self.name = name\n",
    "        self.balance = balance\n",
    "\n",
    "# Creating 3 bank accounts\n",
    "acc1 = Bank(101, \"Chleo\", 100_000)\n",
    "acc2 = Bank(102, \"Diyali\", 60_000)\n",
    "acc3 = Bank(103, \"Jevan\", 800_000)\n",
    "\n",
    "print(acc1.balance)\n"
   ]
  },
  {
   "cell_type": "markdown",
   "metadata": {},
   "source": [
    "## Task 1.3\n",
    "\n",
    "```py\n",
    "print(chleo.display_balance())  # Your balance is R100,000.00\n",
    "```\n"
   ]
  },
  {
   "cell_type": "code",
   "execution_count": 23,
   "metadata": {},
   "outputs": [
    {
     "name": "stdout",
     "output_type": "stream",
     "text": [
      "Your balance is: R100,000.00\n",
      "None\n"
     ]
    }
   ],
   "source": [
    "class Bank:\n",
    "    def __init__(self, acc_no, name, balance):\n",
    "        self.acc_no = acc_no\n",
    "        self.name = name\n",
    "        self.balance = balance\n",
    "\n",
    "    def display_balance(self):\n",
    "        print(f\"Your balance is: R{self.balance:,.2f}\")\n",
    "\n",
    "# Creating 3 bank accounts\n",
    "acc1 = Bank(101, \"Chleo\", 100_000)\n",
    "acc2 = Bank(102, \"Diyali\", 60_000)\n",
    "acc3 = Bank(103, \"Jevan\", 800_000)\n",
    "\n",
    "print(acc1.display_balance())"
   ]
  },
  {
   "cell_type": "markdown",
   "metadata": {},
   "source": [
    "## Task 1.4\n",
    " \n",
    "```py\n",
    "print(chelo.withdraw(2_000))  # Success. Your balance is: R98,000.00\n",
    "print(chelo.display_balance())  # Your balance is: R98,000.00\n",
    "```\n",
    " "
   ]
  },
  {
   "cell_type": "code",
   "execution_count": 24,
   "metadata": {},
   "outputs": [
    {
     "name": "stdout",
     "output_type": "stream",
     "text": [
      "Success. Your balance is: R98,000.00\n",
      "Your balance is: R98,000.00\n"
     ]
    }
   ],
   "source": [
    "class Bank:\n",
    "    def __init__(self, acc_no, name, balance):\n",
    "        self.acc_no = acc_no\n",
    "        self.name = name\n",
    "        self.balance = balance\n",
    "\n",
    "    def withdraw(self, amount):\n",
    "        if amount > self.balance:\n",
    "            return f\"Insufficient funds. Your balance is: R{self.balance:,.2f}\"\n",
    "        else:\n",
    "            self.balance -= amount\n",
    "            return f\"Success. Your balance is: R{self.balance:,.2f}\"\n",
    "\n",
    "    def display_balance(self):\n",
    "        return f\"Your balance is: R{self.balance:,.2f}\"\n",
    "\n",
    "\n",
    "# Creating Chleo's account\n",
    "chleo = Bank(101, \"Chleo\", 100_000)\n",
    "\n",
    "# Performing withdrawals and displaying balance\n",
    "print(chleo.withdraw(2_000))  # Success. Your balance is: R98,000.00\n",
    "print(chleo.display_balance())  # Your balance is: R98,000.00\n"
   ]
  },
  {
   "cell_type": "markdown",
   "metadata": {},
   "source": [
    "## Task 1.4\n",
    " \n",
    "```py\n",
    "print(diyali.deposit(5_000))  # Successfully deposited. Your balance is: R65,000.00\n",
    "print(diyali.display_balance())  # Your balance is: R65,000.00\n",
    "print(diyali.withdraw(1_000)) # Success. Your balance is: R64,000.00\n",
    "```"
   ]
  },
  {
   "cell_type": "code",
   "execution_count": null,
   "metadata": {},
   "outputs": [],
   "source": [
    "class Person:\n",
    "    def __init__(self, name, balance):\n",
    "        self.name = name\n",
    "        self.balance = balance\n",
    "\n",
    "    def deposit(self, amount):\n",
    "        \"\"\"Deposit money into the account.\"\"\"\n",
    "        if amount > 0:\n",
    "            self.balance += amount\n",
    "            return f\"Successfully deposited. Your balance is: R{self.balance:,.2f}\"\n",
    "        else:\n",
    "            return \"Deposit amount must be positive.\"\n",
    "\n",
    "    def withdraw(self, amount):\n",
    "        \"\"\"Withdraw money from the account.\"\"\"\n",
    "        if amount > 0 and amount <= self.balance:\n",
    "            self.balance -= amount\n",
    "            return f\"Success. Your balance is: R{self.balance:,.2f}\"\n",
    "        elif amount > self.balance:\n",
    "            return \"Insufficient funds.\"\n",
    "        else:\n",
    "            return \"Withdrawal amount must be positive.\"\n",
    "\n",
    "    def display_balance(self):\n",
    "        return f\"Your balance is: R{self.balance:,.2f}\"\n",
    "\n",
    "\n",
    "# Create instance for Diyali\n",
    "diyali = Person(\"Diyali\", 60_000)\n",
    "\n",
    "# Testing deposit and withdraw methods\n",
    "print(diyali.deposit(5_000))  # Successfully deposited. Your balance is: R65,000.00\n",
    "print(diyali.display_balance())  # Your balance is: R65,000.00\n",
    "print(diyali.withdraw(1_000))  # Success. Your balance is: R64,000.00\n"
   ]
  },
  {
   "cell_type": "markdown",
   "metadata": {},
   "source": [
    "## Class Variable\n",
    "- for all the instances the value remains the same\n",
    "- instance variable -> for each instance the value is different"
   ]
  },
  {
   "cell_type": "code",
   "execution_count": 25,
   "metadata": {},
   "outputs": [
    {
     "name": "stdout",
     "output_type": "stream",
     "text": [
      "3.14\n",
      "3.14\n",
      "3.14\n",
      "12.56\n",
      "50.24\n"
     ]
    }
   ],
   "source": [
    "class Circle:\n",
    "    # Class variable\n",
    "    pi = 3.14\n",
    "\n",
    "    def __init__(self, radius):\n",
    "        # Instance variable\n",
    "        self.radius = radius\n",
    "\n",
    "    def calculate_area(self):\n",
    "        return self.pi * (self.radius**2)  # π * r^2\n",
    "\n",
    "\n",
    "c1 = Circle(2)\n",
    "c2 = Circle(4)\n",
    "\n",
    "# Accessing the class variable\n",
    "print(c1.pi)  # Output: 3.14\n",
    "print(c2.pi)  # Output: 3.14\n",
    "print(Circle.pi)  # Output: 3.14\n",
    "\n",
    "# Calculating and displaying the areas\n",
    "print(c1.calculate_area())  # Output: 12.56 (3.14 * 2^2)\n",
    "print(c2.calculate_area())  # Output: 50.24 (3.14 * 4^2)\n"
   ]
  },
  {
   "cell_type": "markdown",
   "metadata": {},
   "source": [
    "1. @staticmethod\n",
    "2. @classmethod\n",
    "\n",
    "@ -> Decorator"
   ]
  },
  {
   "cell_type": "code",
   "execution_count": 26,
   "metadata": {},
   "outputs": [
    {
     "name": "stdout",
     "output_type": "stream",
     "text": [
      "12.56\n"
     ]
    }
   ],
   "source": [
    "def perimeter(radius):\n",
    "    return 2 * Circle.pi * radius\n",
    "\n",
    "print(perimeter(2))\n"
   ]
  },
  {
   "cell_type": "markdown",
   "metadata": {},
   "source": [
    "# Class method gives access to class"
   ]
  },
  {
   "cell_type": "markdown",
   "metadata": {},
   "source": [
    "## Task 1.5\n",
    "interest_rate 2%\n",
    "One year is done\n",
    "\n",
    "```py\n",
    "chelo.apply_interest()\n",
    "diyali.apply_interest()\n",
    "jevan.apply_interest()\n",
    "\n",
    "chelo.apply_inerest()\n",
    "diyali.apply_inerest()\n",
    "jevan.apply_inerest()\n",
    "\n",
    "print(chelo.display_balance())\n",
    "print(diyali.display_balance())\n",
    "print(jevan.display_balance())\n",
    "\n",
    "```"
   ]
  },
  {
   "cell_type": "markdown",
   "metadata": {},
   "source": [
    "## Task 1.6\n",
    "Bank.update_interest_rate(4) # 4%"
   ]
  },
  {
   "cell_type": "code",
   "execution_count": null,
   "metadata": {},
   "outputs": [],
   "source": [
    "# 1. Encapsulation - Data + logic -> instance variable + instance methods -> Container (Class)\n",
    "# Access to data\n",
    "class Bank:\n",
    "    def __init__(self, acc_no, name, balance):\n",
    "        self.acc_no = acc_no\n",
    "        self.name = name\n",
    "        self.balance = balance  # int\n",
    "\n",
    "    # instance method -> self (always first parameter)\n",
    "    def display_balance(self):\n",
    "        return f\"Your balance is: R{self.balance:,.2f}\"\n",
    "\n",
    "    # 2. Abstraction - Beautiful - Complexity Hidden\n",
    "    def withdraw(self, amount):\n",
    "        if amount <= 0:\n",
    "            return \"Invalid amount\"\n",
    "\n",
    "        if amount > self.balance:\n",
    "            return f\"Insufficient funds. {self.display_balance()}\"\n",
    "\n",
    "        self.balance -= amount\n",
    "        return f\"Success. {self.display_balance()}\"\n",
    "\n",
    "\n",
    "chelo = Bank(123, \"Chleo Smith\", 100_000)\n",
    "diyali = Bank(124, \"Diyali Devraj\", 60_000)\n",
    "jevan = Bank(125, \"Jevan Peters\", 800_000)\n"
   ]
  },
  {
   "cell_type": "code",
   "execution_count": 28,
   "metadata": {},
   "outputs": [
    {
     "name": "stdout",
     "output_type": "stream",
     "text": [
      "Chelo's balance: R1020.00\n",
      "Diyali's balance: R1530.00\n",
      "Jevan's balance: R2040.00\n"
     ]
    }
   ],
   "source": [
    "## Task 1.5\n",
    "\n",
    "\n",
    "class Person:\n",
    "    def __init__(self, name, balance):\n",
    "        self.name = name\n",
    "        self.balance = balance\n",
    "\n",
    "    def apply_interest(self):\n",
    "        self.balance += self.balance * 0.02  # Applying 2% interest\n",
    "\n",
    "    def display_balance(self):\n",
    "        return f\"{self.name}'s balance: R{self.balance:.2f}\"\n",
    "\n",
    "\n",
    "# Create instances for Chelo, Diyali, and Jevan\n",
    "chelo = Person(\"Chelo\", 1000)  # Initial balance: 1000\n",
    "diyali = Person(\"Diyali\", 1500)  # Initial balance: 1500\n",
    "jevan = Person(\"Jevan\", 2000)  # Initial balance: 2000\n",
    "\n",
    "# Applying interest\n",
    "chelo.apply_interest()\n",
    "diyali.apply_interest()\n",
    "jevan.apply_interest()\n",
    "\n",
    "# Displaying updated balances\n",
    "print(chelo.display_balance())\n",
    "print(diyali.display_balance())\n",
    "print(jevan.display_balance())\n"
   ]
  },
  {
   "cell_type": "code",
   "execution_count": null,
   "metadata": {},
   "outputs": [],
   "source": [
    "## Task 1.6\n",
    "\n",
    "class Bank:\n",
    "    interest_rate = 2  # Default interest rate\n",
    "\n",
    "    @classmethod\n",
    "    def update_interest_rate(cls, new_rate):\n",
    "        cls.interest_rate = new_rate  # Updating the interest rate\n",
    "\n",
    "    @classmethod\n",
    "    def apply_interest(cls, person):\n",
    "        person.balance += person.balance * (\n",
    "            cls.interest_rate / 100\n",
    "        )  # Applying interest rate to person’s balance\n",
    "\n",
    "\n",
    "class Person:\n",
    "    def __init__(self, name, balance):\n",
    "        self.name = name\n",
    "        self.balance = balance\n",
    "\n",
    "    def display_balance(self):\n",
    "        return f\"{self.name}'s balance: R{self.balance:.2f}\"\n",
    "\n",
    "\n",
    "# Create instances for Chelo, Diyali, and Jevan\n",
    "chelo = Person(\"Chelo\", 1000)\n",
    "diyali = Person(\"Diyali\", 1500)\n",
    "jevan = Person(\"Jevan\", 2000)\n",
    "\n",
    "# Bank applies the default 2% interest rate\n",
    "Bank.apply_interest(chelo)\n",
    "Bank.apply_interest(diyali)\n",
    "Bank.apply_interest(jevan)\n",
    "\n",
    "# Display balances after applying the initial interest\n",
    "print(chelo.display_balance())\n",
    "print(diyali.display_balance())\n",
    "print(jevan.display_balance())\n",
    "\n",
    "# Update the bank's interest rate to 4%\n",
    "Bank.update_interest_rate(4)\n",
    "\n",
    "# Apply the new interest rate (4%) to all accounts\n",
    "Bank.apply_interest(chelo)\n",
    "Bank.apply_interest(diyali)\n",
    "Bank.apply_interest(jevan)\n",
    "\n",
    "# Display balances after applying the updated interest rate\n",
    "print(chelo.display_balance())\n",
    "print(diyali.display_balance())\n",
    "print(jevan.display_balance())\n"
   ]
  },
  {
   "cell_type": "markdown",
   "metadata": {},
   "source": [
    "# Task 1.7\n",
    "\n",
    "```py\n",
    "print(Bank.get_total_no_accounts())  # In total we have 3 accounts\n",
    "```"
   ]
  },
  {
   "cell_type": "code",
   "execution_count": null,
   "metadata": {},
   "outputs": [],
   "source": [
    "## Task 1.7\n",
    "\n",
    "class Bank:\n",
    "    total_accounts = 0  # Tracks total number of accounts\n",
    "\n",
    "    def __init__(self):\n",
    "        Bank.total_accounts += 1  # Increment when a new account is created\n",
    "\n",
    "    @classmethod\n",
    "    def get_total_no_accounts(cls):\n",
    "        return f\"In total we have {cls.total_accounts} accounts\"\n",
    "\n",
    "\n",
    "class Person(Bank):  # Person inherits from Bank\n",
    "    def __init__(self, name, balance):\n",
    "        super().__init__()  # Call the Bank constructor to count accounts\n",
    "        self.name = name\n",
    "        self.balance = balance\n",
    "\n",
    "\n",
    "# Create accounts\n",
    "chelo = Person(\"Chelo\", 1000)\n",
    "diyali = Person(\"Diyali\", 1500)\n",
    "jevan = Person(\"Jevan\", 2000)\n",
    "\n",
    "# Check total accounts\n",
    "print(Bank.get_total_no_accounts())  # In total we have 3 accounts\n"
   ]
  },
  {
   "cell_type": "markdown",
   "metadata": {},
   "source": [
    "# Encapsulation\n",
    "# Abstraction\n",
    "# Inheritance\n",
    "# polymorphism  - behaves differently based on the context"
   ]
  },
  {
   "cell_type": "code",
   "execution_count": null,
   "metadata": {},
   "outputs": [
    {
     "name": "stdout",
     "output_type": "stream",
     "text": [
      "Some sound\n",
      "Woof Woof!! 🐕\n",
      "20\n"
     ]
    }
   ],
   "source": [
    "# Base / Parent Class\n",
    "class Animal:\n",
    "    def __init__(self, name):\n",
    "        self.name = name\n",
    "\n",
    "    def speak(self):\n",
    "        return \"Some sound\"\n",
    "\n",
    "#Dog inherits from Animal\n",
    "class Dog(Animal):\n",
    "    def __init__(self, name, speed):\n",
    "        super().__init__(name)  # super -> Animal (take care of name) # Super refers to your parent class\n",
    "        self.speed = speed\n",
    "\n",
    "# Method Overriding: Functionality of Base class is overridden\n",
    "    def speak(self):\n",
    "        return \"Woof Woof!! 🐕\"\n",
    "    def run(self):\n",
    "        return \"🐶 wags his tails!!\"\n",
    "    def speed_bonus(self):\n",
    "        return f\"Running at {self.speed* 2}km/hr\"\n",
    "\n",
    "toby = Animal('toby')\n",
    "maxy = Dog('maxy', 20)\n",
    "\n",
    "print(toby.speak())\n",
    "print(maxy.speak())\n",
    "maxy.run()\n",
    "\n",
    "# toby.run() ❌\n",
    "# toby.speed() ❌\n",
    "print(maxy.speed)\n"
   ]
  },
  {
   "cell_type": "code",
   "execution_count": null,
   "metadata": {},
   "outputs": [
    {
     "data": {
      "text/plain": [
       "9"
      ]
     },
     "execution_count": 32,
     "metadata": {},
     "output_type": "execute_result"
    }
   ],
   "source": [
    "4 + 5  # Concatenation"
   ]
  },
  {
   "cell_type": "code",
   "execution_count": 33,
   "metadata": {},
   "outputs": [
    {
     "data": {
      "text/plain": [
       "'ss'"
      ]
     },
     "execution_count": 33,
     "metadata": {},
     "output_type": "execute_result"
    }
   ],
   "source": [
    "\"s\" + \"s\"  # Concatenation"
   ]
  },
  {
   "cell_type": "markdown",
   "metadata": {},
   "source": [
    "# Task 1.8 & Task 1.9\n",
    "\n",
    "1. SavingsAccount  - 5%\n",
    "2. CheckingAccount  - R1  - transaction fee, interest rate does not change\n",
    "```py\n",
    "chelo = SavingsAccount(123, \"Chleo Smith\", 50_000)"
   ]
  },
  {
   "cell_type": "code",
   "execution_count": 40,
   "metadata": {},
   "outputs": [
    {
     "name": "stdout",
     "output_type": "stream",
     "text": [
      "Interest applied. New balance: R52,500.00\n",
      "Interest applied. New balance: R52,500.00\n"
     ]
    }
   ],
   "source": [
    "# Task 1.8\n",
    "\n",
    "\n",
    "class SavingsAccount(Bank):\n",
    "    interest_rate = 0.05  # 5% interest\n",
    "\n",
    "    def apply_interest(self):\n",
    "        \"\"\"Apply 5% interest to the balance.\"\"\"\n",
    "        self.balance += self.balance * SavingsAccount.interest_rate\n",
    "        return f\"Interest applied. New balance: R{self.balance:,.2f}\"\n",
    "\n",
    "\n",
    "# ✅ Creating a Savings Account\n",
    "chelo = SavingsAccount(123, \"Chleo Smith\", 50_000)\n",
    "print(chelo.apply_interest())  # Apply 5% interest\n",
    "\n",
    "\n",
    "# Without ovrriding\n",
    "\n",
    "class SavingsAccount(Bank):\n",
    "    interest_rate = 0.05  # 5% interest\n",
    "\n",
    "\n",
    "# ✅ Creating a Savings Account\n",
    "chelo = SavingsAccount(123, \"Chleo Smith\", 50_000)\n",
    "chelo.balance += chelo.balance * SavingsAccount.interest_rate  # Apply interest manually\n",
    "print(f\"Interest applied. New balance: R{chelo.balance:,.2f}\")\n"
   ]
  },
  {
   "cell_type": "code",
   "execution_count": 41,
   "metadata": {},
   "outputs": [
    {
     "name": "stdout",
     "output_type": "stream",
     "text": [
      "New balance: R20,999.00\n",
      "New balance: R20,498.00\n"
     ]
    }
   ],
   "source": [
    "# Task 1.9\n",
    "\n",
    "\n",
    "class CheckingAccount(Bank):\n",
    "    transaction_fee = 1\n",
    "\n",
    "    def deposit(self, amount):\n",
    "        self.balance += amount - self.transaction_fee\n",
    "        return f\"New balance: R{self.balance:,.2f}\"\n",
    "\n",
    "    def withdraw(self, amount):\n",
    "        if self.balance >= amount + self.transaction_fee:\n",
    "            self.balance -= amount + self.transaction_fee\n",
    "            return f\"New balance: R{self.balance:,.2f}\"\n",
    "        return \"Insufficient funds.\"\n",
    "\n",
    "\n",
    "# ✅ Example\n",
    "diyali = CheckingAccount(456, \"Diyali Johnson\", 20_000)\n",
    "print(diyali.deposit(1_000))\n",
    "print(diyali.withdraw(500))\n"
   ]
  }
 ],
 "metadata": {
  "kernelspec": {
   "display_name": ".venv",
   "language": "python",
   "name": "python3"
  },
  "language_info": {
   "codemirror_mode": {
    "name": "ipython",
    "version": 3
   },
   "file_extension": ".py",
   "mimetype": "text/x-python",
   "name": "python",
   "nbconvert_exporter": "python",
   "pygments_lexer": "ipython3",
   "version": "3.11.8"
  }
 },
 "nbformat": 4,
 "nbformat_minor": 2
}
