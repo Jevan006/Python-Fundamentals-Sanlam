{
 "cells": [
  {
   "cell_type": "markdown",
   "metadata": {},
   "source": [
    "# List Comprehenaion"
   ]
  },
  {
   "cell_type": "code",
   "execution_count": 9,
   "metadata": {},
   "outputs": [
    {
     "name": "stdout",
     "output_type": "stream",
     "text": [
      "[9, 64, 100, 144]\n"
     ]
    }
   ],
   "source": [
    "nums = [3, 8, 10, 12]\n",
    "\n",
    "squares = []\n",
    "for num in nums:\n",
    "    squares.append(num**2)\n",
    "\n",
    "print(squares)"
   ]
  },
  {
   "cell_type": "code",
   "execution_count": 10,
   "metadata": {},
   "outputs": [
    {
     "name": "stdout",
     "output_type": "stream",
     "text": [
      "[4, 8, 11, 15, 10, 4]\n"
     ]
    }
   ],
   "source": [
    "avengers = [\n",
    "    \"Hulk\",\n",
    "    \"Iron man\",\n",
    "    \"Black widow\",\n",
    "    \"Captain america\",\n",
    "    \"Spider man\",\n",
    "    \"Thor\",\n",
    "]\n",
    "\n",
    "avengers_letter_count = []\n",
    "\n",
    "# Loop list & method\n",
    "for i in range(len(avengers)):\n",
    "    avengers_letter_count.append(len(avengers[i]))\n",
    "print(avengers_letter_count)\n"
   ]
  },
  {
   "cell_type": "code",
   "execution_count": null,
   "metadata": {},
   "outputs": [
    {
     "name": "stdout",
     "output_type": "stream",
     "text": [
      "[4, 8, 11, 15, 10, 4]\n"
     ]
    }
   ],
   "source": [
    "# Answer\n",
    "\n",
    "avengers_letter_count = [len(avenger) for avenger in avengers]\n",
    "print(avengers_letter_count)"
   ]
  },
  {
   "cell_type": "code",
   "execution_count": 18,
   "metadata": {},
   "outputs": [
    {
     "name": "stdout",
     "output_type": "stream",
     "text": [
      "[5.0, 13.42, 16.4]\n"
     ]
    }
   ],
   "source": [
    "# Task 1.2\n",
    "\n",
    "points = [(3, 4), (6, 12), (10, 13)]\n",
    "\n",
    "distances = []\n",
    "for x, y in points:  # unpacking\n",
    "    distance = round((x**2 + y**2) ** 0.5, 2)\n",
    "    distances.append(distance)\n",
    "\n",
    "print(distances)\n"
   ]
  },
  {
   "cell_type": "code",
   "execution_count": 19,
   "metadata": {},
   "outputs": [
    {
     "name": "stdout",
     "output_type": "stream",
     "text": [
      "[5.0, 13.42, 16.4]\n"
     ]
    }
   ],
   "source": [
    "# Answer\n",
    "\n",
    "points = [(3, 4), (6, 12), (10, 13)]\n",
    "\n",
    "distances = [round((x**2 + y**2) ** 0.5, 2) for x, y in points]\n",
    "\n",
    "print(distances)\n"
   ]
  },
  {
   "cell_type": "code",
   "execution_count": null,
   "metadata": {},
   "outputs": [],
   "source": [
    "# Task 1.3\n",
    "\n",
    "# Task - With List Comp\n",
    "\n",
    "nums = [7, 44, 90, 6, 75, 10]\n",
    "\n",
    "# Output\n",
    "[\"Odd\", \"Even\", \"Even\", \"Even\", \"Odd\", \"Even\"]"
   ]
  },
  {
   "cell_type": "code",
   "execution_count": 20,
   "metadata": {},
   "outputs": [
    {
     "name": "stdout",
     "output_type": "stream",
     "text": [
      "['Odd', 'Even', 'Even', 'Even', 'Odd', 'Even']\n"
     ]
    }
   ],
   "source": [
    "# Answer\n",
    "\n",
    "nums = [7, 44, 90, 6, 75, 10]\n",
    "\n",
    "result = [\"Odd\" if num % 2 != 0 else \"Even\" for num in nums]\n",
    "\n",
    "print(result)\n"
   ]
  },
  {
   "cell_type": "code",
   "execution_count": 3,
   "metadata": {},
   "outputs": [
    {
     "data": {
      "text/plain": [
       "{'country_code': '+27',\n",
       " 'job': 'Sanlam',\n",
       " 'country': 'SA',\n",
       " 'age': 18,\n",
       " 'name': 'Jamie'}"
      ]
     },
     "execution_count": 3,
     "metadata": {},
     "output_type": "execute_result"
    }
   ],
   "source": [
    "student = {\"name\": \"Jamie\", \"age\": 20}\n",
    "detail = {\"job\": \"Sanlam\", \"country\": \"SA\", \"age\": 19}\n",
    "\n",
    "all_details = {\"country_code\": \"+27\", **detail, **student, \"age\": 18}\n",
    "\n",
    "all_details\n"
   ]
  }
 ],
 "metadata": {
  "kernelspec": {
   "display_name": ".venv",
   "language": "python",
   "name": "python3"
  },
  "language_info": {
   "codemirror_mode": {
    "name": "ipython",
    "version": 3
   },
   "file_extension": ".py",
   "mimetype": "text/x-python",
   "name": "python",
   "nbconvert_exporter": "python",
   "pygments_lexer": "ipython3",
   "version": "3.11.8"
  }
 },
 "nbformat": 4,
 "nbformat_minor": 2
}
