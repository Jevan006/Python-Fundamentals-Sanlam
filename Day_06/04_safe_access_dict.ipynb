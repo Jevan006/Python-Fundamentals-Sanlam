{
 "cells": [
  {
   "cell_type": "code",
   "execution_count": null,
   "metadata": {},
   "outputs": [],
   "source": [
    "spiderman = {\n",
    "    \"name\": \"Peter Parker\",\n",
    "    \"age\": 18,\n",
    "    \"team name\": \"Avengers\",\n",
    "    \"team\":{\"Iron Man\", \"Thor\", \"Hulk\", \"Captain America\"}\n",
    "}\n",
    "print(spiderman['height'])  # Key error"
   ]
  },
  {
   "cell_type": "code",
   "execution_count": 2,
   "metadata": {},
   "outputs": [
    {
     "name": "stdout",
     "output_type": "stream",
     "text": [
      "185\n"
     ]
    }
   ],
   "source": [
    "captain_america = {\n",
    "    \"name\": \"Steve Rogers\",\n",
    "    \"age\": 100,\n",
    "    \"height\": \"185\",\n",
    "}\n",
    "print(captain_america[\"height\"])\n"
   ]
  },
  {
   "cell_type": "code",
   "execution_count": 20,
   "metadata": {},
   "outputs": [
    {
     "name": "stdout",
     "output_type": "stream",
     "text": [
      "Steve Rogers 🦸‍♂️ lives in Brooklyn\n",
      "Peter Parker location is Top Secret 🔒\n",
      "Bruce Banner location is Top Secret 🔒\n"
     ]
    }
   ],
   "source": [
    "captain_america = {\n",
    "    \"name\": \"Steve Rogers 🦸‍♂️\",\n",
    "    \"age\": 100,\n",
    "    \"height\": 185,\n",
    "    \"address\": {\"city\": \"Brooklyn\", \"country\": \"US\"},\n",
    "}\n",
    "\n",
    "spiderman = {\n",
    "    \"name\": \"Peter Parker\",\n",
    "    \"age\": 18,\n",
    "    \"team_name\": \"Avengers\",\n",
    "    \"team\": [\"Iron Man\", \"Thor\", \"Hulk\", \"Captain America\"],\n",
    "}\n",
    "\n",
    "hulk = {\n",
    "    \"name\": \"Bruce Banner\",\n",
    "    \"age\": 35,\n",
    "}\n",
    "\n",
    "heroes = [captain_america, spiderman, hulk]\n",
    "\n",
    "for hero in heroes:\n",
    "    city = hero.get(\"address\", {}).get(\"city\")\n",
    "    if city is None:\n",
    "        print(f\"{hero['name']} location is Top Secret 🔒\")\n",
    "    else:\n",
    "        print(f\"{hero['name']} lives in {city}\")\n"
   ]
  },
  {
   "cell_type": "code",
   "execution_count": 32,
   "metadata": {},
   "outputs": [
    {
     "data": {
      "text/plain": [
       "[{'name': 'Chelo', 'experience': 4},\n",
       " {'name': 'Diyali', 'experience': 1},\n",
       " {'name': 'Luvuyo', 'experience': 1},\n",
       " {'name': 'Jevan', 'experience': 3}]"
      ]
     },
     "execution_count": 32,
     "metadata": {},
     "output_type": "execute_result"
    }
   ],
   "source": [
    "# Task 2.1\n",
    "# After 2026\n",
    "\n",
    "# Output - increase experience by 1\n",
    "\n",
    "employees = [\n",
    "    {\"name\": \"Chelo\", \"experience\": 3},\n",
    "    {\n",
    "        \"name\": \"Diyali\",\n",
    "    },\n",
    "    {\n",
    "        \"name\": \"Luvuyo\",\n",
    "    },\n",
    "    {\n",
    "        \"name\": \"Jevan\", \"experience\": 2},\n",
    "]\n",
    "\n",
    "# Increase experience by 1 (or initialize if missing)\n",
    "for employee in employees:\n",
    "    employee['experience'] = employee.get('experience', 0) + 1\n",
    "\n",
    "# Output updated list\n",
    "employees"
   ]
  },
  {
   "cell_type": "code",
   "execution_count": null,
   "metadata": {},
   "outputs": [],
   "source": [
    "# Task 2.2\n",
    "# Update the status where Senior is 5 or more years experience, Mid-Level 3 to 5 years, Junior < 3 years\n",
    "employees = [\n",
    "    {\"name\": \"Chelo\", \"experience\": 4},\n",
    "    {\n",
    "        \"name\": \"Diyali\",\n",
    "    },\n",
    "    {\n",
    "        \"name\": \"Luvuyo\",\n",
    "    },\n",
    "    {\"name\": \"Jevan\", \"experience\": 2},\n",
    "]\n",
    "\n",
    "\n",
    "# Output\n",
    "employees = [\n",
    "    {\"name\": \"Chelo\", \"experience\": 5, \"status\": \"Senior\"},\n",
    "    {\"name\": \"Diyali\", \"status\": \"Junior\", \"experience\": 1},\n",
    "    {\"name\": \"Luvuyo\", \"status\": \"Junior\", \"experience\": 1},\n",
    "    {\"name\": \"Jevan\", \"status\": \"Mid-Level\", \"experience\": 3},\n",
    "]\n",
    "\n",
    "# Function to update experience and assign status\n",
    "for employee in employees:\n",
    "    # Set default experience to 1 if missing, then increment by 1\n",
    "    employee[\"experience\"] = employee.get(\"experience\", 1) + 1\n",
    "\n",
    "    # Assign status based on experience\n",
    "    if employee[\"experience\"] >= 5:\n",
    "        employee[\"status\"] = \"Senior\"\n",
    "    elif 3 <= employee[\"experience\"] < 5:\n",
    "        employee[\"status\"] = \"Mid-Level\"\n",
    "    else:\n",
    "        employee[\"status\"] = \"Junior\"\n",
    "\n",
    "# Output updated list\n",
    "print(employees)"
   ]
  }
 ],
 "metadata": {
  "kernelspec": {
   "display_name": ".venv",
   "language": "python",
   "name": "python3"
  },
  "language_info": {
   "codemirror_mode": {
    "name": "ipython",
    "version": 3
   },
   "file_extension": ".py",
   "mimetype": "text/x-python",
   "name": "python",
   "nbconvert_exporter": "python",
   "pygments_lexer": "ipython3",
   "version": "3.11.8"
  }
 },
 "nbformat": 4,
 "nbformat_minor": 2
}
