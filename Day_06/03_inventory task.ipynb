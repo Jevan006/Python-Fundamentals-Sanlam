{
 "cells": [
  {
   "cell_type": "markdown",
   "metadata": {},
   "source": [
    "## Task 1.1"
   ]
  },
  {
   "cell_type": "code",
   "execution_count": 1,
   "metadata": {},
   "outputs": [
    {
     "ename": "ValueError",
     "evalue": "invalid literal for int() with base 10: ''",
     "output_type": "error",
     "traceback": [
      "\u001b[1;31m---------------------------------------------------------------------------\u001b[0m",
      "\u001b[1;31mValueError\u001b[0m                                Traceback (most recent call last)",
      "Cell \u001b[1;32mIn[1], line 13\u001b[0m\n\u001b[0;32m     10\u001b[0m \u001b[38;5;28;01mif\u001b[39;00m product_name\u001b[38;5;241m.\u001b[39mlower() \u001b[38;5;241m==\u001b[39m \u001b[38;5;124m'\u001b[39m\u001b[38;5;124mstop\u001b[39m\u001b[38;5;124m'\u001b[39m:\n\u001b[0;32m     11\u001b[0m     \u001b[38;5;28;01mbreak\u001b[39;00m  \u001b[38;5;66;03m# Exit the loop when the user types 'stop'\u001b[39;00m\n\u001b[1;32m---> 13\u001b[0m quantity \u001b[38;5;241m=\u001b[39m \u001b[38;5;28;43mint\u001b[39;49m\u001b[43m(\u001b[49m\u001b[38;5;28;43minput\u001b[39;49m\u001b[43m(\u001b[49m\u001b[38;5;124;43m\"\u001b[39;49m\u001b[38;5;124;43mWhat is the quantity? \u001b[39;49m\u001b[38;5;124;43m\"\u001b[39;49m\u001b[43m)\u001b[49m\u001b[43m)\u001b[49m\n\u001b[0;32m     14\u001b[0m price \u001b[38;5;241m=\u001b[39m \u001b[38;5;28mfloat\u001b[39m(\u001b[38;5;28minput\u001b[39m(\u001b[38;5;124m\"\u001b[39m\u001b[38;5;124mWhat is the price? \u001b[39m\u001b[38;5;124m\"\u001b[39m))\n\u001b[0;32m     16\u001b[0m \u001b[38;5;66;03m# Create new product dictionary\u001b[39;00m\n",
      "\u001b[1;31mValueError\u001b[0m: invalid literal for int() with base 10: ''"
     ]
    }
   ],
   "source": [
    "# Inventory list\n",
    "inventory = [\n",
    "    {'name': 'Apple 🍎', 'quantity': 30, 'price': 0.5},\n",
    "    {'name': 'Banana 🍌', 'quantity': 20, 'price': 0.2}\n",
    "]\n",
    "\n",
    "while True:\n",
    "    # Prompt user for product details\n",
    "    product_name = input(\"What is the product name? (Type 'stop' to finish) \")\n",
    "    if product_name.lower() == 'stop':\n",
    "        break  # Exit the loop when the user types 'stop'\n",
    "\n",
    "    quantity = int(input(\"What is the quantity? \"))\n",
    "    price = float(input(\"What is the price? \"))\n",
    "\n",
    "    # Create new product dictionary\n",
    "    new_product = {'name': product_name, 'quantity': quantity, 'price': price}\n",
    "\n",
    "    # Add new product to inventory\n",
    "    inventory.append(new_product)\n",
    "\n",
    "    print(\"\\nNew product added:\", new_product)\n",
    "    print(\"Updated Inventory:\", inventory)\n",
    "    print(\"\\nYou can add another product or type 'stop' to finish.\\n\")\n",
    "\n",
    "# Final inventory output\n",
    "print(\"\\nFinal Inventory:\", inventory)\n"
   ]
  }
 ],
 "metadata": {
  "kernelspec": {
   "display_name": ".venv",
   "language": "python",
   "name": "python3"
  },
  "language_info": {
   "codemirror_mode": {
    "name": "ipython",
    "version": 3
   },
   "file_extension": ".py",
   "mimetype": "text/x-python",
   "name": "python",
   "nbconvert_exporter": "python",
   "pygments_lexer": "ipython3",
   "version": "3.11.8"
  }
 },
 "nbformat": 4,
 "nbformat_minor": 2
}
