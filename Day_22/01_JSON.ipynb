{
 "cells": [
  {
   "cell_type": "code",
   "execution_count": null,
   "metadata": {},
   "outputs": [],
   "source": [
    "data = {\n",
    "    \"employees\": [\n",
    "        {\"name\": 'Alice', \"age\": 30, \"department\": 'Sales'},\n",
    "        {\"name\": \"Bob\", \"age\": 25, \"department\": \"Marketing\"},\n",
    "    ]\n",
    "}\n"
   ]
  },
  {
   "cell_type": "code",
   "execution_count": 1,
   "metadata": {},
   "outputs": [
    {
     "ename": "NameError",
     "evalue": "name 'data' is not defined",
     "output_type": "error",
     "traceback": [
      "\u001b[31m---------------------------------------------------------------------------\u001b[39m",
      "\u001b[31mNameError\u001b[39m                                 Traceback (most recent call last)",
      "\u001b[36mCell\u001b[39m\u001b[36m \u001b[39m\u001b[32mIn[1]\u001b[39m\u001b[32m, line 1\u001b[39m\n\u001b[32m----> \u001b[39m\u001b[32m1\u001b[39m \u001b[38;5;28mprint\u001b[39m(\u001b[38;5;28mtype\u001b[39m(\u001b[43mdata\u001b[49m))\n",
      "\u001b[31mNameError\u001b[39m: name 'data' is not defined"
     ]
    }
   ],
   "source": [
    "print(type(data))"
   ]
  },
  {
   "cell_type": "code",
   "execution_count": null,
   "metadata": {},
   "outputs": [
    {
     "data": {
      "text/plain": [
       "30"
      ]
     },
     "execution_count": 155,
     "metadata": {},
     "output_type": "execute_result"
    }
   ],
   "source": [
    "data['employees'][0]['age']"
   ]
  },
  {
   "cell_type": "code",
   "execution_count": null,
   "metadata": {},
   "outputs": [],
   "source": [
    "import json"
   ]
  },
  {
   "cell_type": "code",
   "execution_count": null,
   "metadata": {},
   "outputs": [
    {
     "name": "stdout",
     "output_type": "stream",
     "text": [
      "{\n",
      "    \"employees\": [\n",
      "        {\n",
      "            \"name\": \"Alice\",\n",
      "            \"age\": 30,\n",
      "            \"department\": \"Sales\"\n",
      "        },\n",
      "        {\n",
      "            \"name\": \"Bob\",\n",
      "            \"age\": 25,\n",
      "            \"department\": \"Marketing\"\n",
      "        }\n",
      "    ]\n",
      "} <class 'str'>\n"
     ]
    }
   ],
   "source": [
    "\n",
    "\n",
    "data_json = json.dumps(data, indent=4)\n",
    "print(data_json, type(data_json))"
   ]
  },
  {
   "cell_type": "code",
   "execution_count": null,
   "metadata": {},
   "outputs": [],
   "source": [
    "def add(n):\n",
    "    return n + 1\n",
    "\n",
    "\n",
    "data = {\n",
    "    \"employees\": [\n",
    "        {\"name\": \"Alice\", \"age\": 30, \"department\": \"Sales\"},\n",
    "        {\"name\": \"Bob\", \"age\": 25, \"department\": \"Marketing\"},\n",
    "    ],\n",
    "    \"fun\": add,\n",
    "}\n"
   ]
  },
  {
   "cell_type": "code",
   "execution_count": null,
   "metadata": {},
   "outputs": [
    {
     "name": "stdout",
     "output_type": "stream",
     "text": [
      "{\n",
      "    \"employees\": [\n",
      "        {\n",
      "            \"name\": \"Alice\",\n",
      "            \"age\": 30,\n",
      "            \"department\": \"Sales\"\n",
      "        },\n",
      "        {\n",
      "            \"name\": \"Bob\",\n",
      "            \"age\": 25,\n",
      "            \"department\": \"Marketing\"\n",
      "        }\n",
      "    ],\n",
      "    \"hike\": 10.5,\n",
      "    \"cool\": true\n",
      "} <class 'str'>\n"
     ]
    }
   ],
   "source": [
    "data = {\n",
    "    \"employees\": [\n",
    "        {\"name\": \"Alice\", \"age\": 30, \"department\": \"Sales\"},\n",
    "        {\"name\": \"Bob\", \"age\": 25, \"department\": \"Marketing\"},\n",
    "    ],\n",
    "    \"hike\": 10.5,\n",
    "    \"cool\": True,\n",
    "}\n",
    "\n",
    "# Dict -> JSON: dumps\n",
    "data_json = json.dumps(data, indent=4)  ## error\n",
    "\n",
    "print(data_json, type(data_json))\n"
   ]
  },
  {
   "cell_type": "code",
   "execution_count": null,
   "metadata": {},
   "outputs": [],
   "source": [
    "student_json = \"\"\"\n",
    "{\n",
    "    \"name\": \"Jamie\",\n",
    "    \"gender\": \"Female\"\n",
    "}\n",
    "\"\"\"\n"
   ]
  },
  {
   "cell_type": "code",
   "execution_count": null,
   "metadata": {},
   "outputs": [
    {
     "name": "stdout",
     "output_type": "stream",
     "text": [
      "<class 'str'>\n"
     ]
    }
   ],
   "source": [
    "print(type(student_json))"
   ]
  },
  {
   "cell_type": "code",
   "execution_count": null,
   "metadata": {},
   "outputs": [
    {
     "name": "stdout",
     "output_type": "stream",
     "text": [
      "{'name': 'Jamie', 'gender': 'Female'} <class 'dict'>\n",
      "Jamie\n"
     ]
    }
   ],
   "source": [
    "# Dict -> JSON: dumps\n",
    "# JSON -> Dict: loads\n",
    "\n",
    "student = json.loads(student_json)\n",
    "\n",
    "print(student, type(student))\n",
    "print(student['name'])\n"
   ]
  },
  {
   "cell_type": "code",
   "execution_count": null,
   "metadata": {},
   "outputs": [],
   "source": [
    "bank_data = \"\"\"\n",
    "[\n",
    "    {\n",
    "        \"id\": 1,\n",
    "        \"name\": \"John Doe\",\n",
    "        \"email\": \"johndoe@example.com\",\n",
    "        \"isActive\": true,\n",
    "        \"balance\": 150.75\n",
    "    },\n",
    "    {\n",
    "        \"id\": 2,\n",
    "        \"name\": \"Jane Smith\",\n",
    "        \"email\": \"janesmith@example.com\",\n",
    "        \"isActive\": false,\n",
    "        \"balance\": 500.50\n",
    "    },\n",
    "    {\n",
    "        \"id\": 3,\n",
    "        \"name\": \"Emily Jones\",\n",
    "        \"email\": \"emilyjones@example.com\",\n",
    "        \"isActive\": true,\n",
    "        \"balance\": 0.00\n",
    "    }\n",
    "]\n",
    "\"\"\"\n"
   ]
  },
  {
   "cell_type": "markdown",
   "metadata": {},
   "source": [
    "## Task 1.1 (normal for loop)\n",
    "All Active user's balance should increase by 10%\n",
    "Final Output should be JSON format"
   ]
  },
  {
   "cell_type": "code",
   "execution_count": null,
   "metadata": {},
   "outputs": [
    {
     "data": {
      "text/plain": [
       "'[\\n    {\\n        \"id\": 1,\\n        \"name\": \"John Doe\",\\n        \"email\": \"johndoe@example.com\",\\n        \"isActive\": true,\\n        \"balance\": 165.82500000000002\\n    },\\n    {\\n        \"id\": 2,\\n        \"name\": \"Jane Smith\",\\n        \"email\": \"janesmith@example.com\",\\n        \"isActive\": false,\\n        \"balance\": 500.5\\n    },\\n    {\\n        \"id\": 3,\\n        \"name\": \"Emily Jones\",\\n        \"email\": \"emilyjones@example.com\",\\n        \"isActive\": true,\\n        \"balance\": 0.0\\n    }\\n]'"
      ]
     },
     "execution_count": 164,
     "metadata": {},
     "output_type": "execute_result"
    }
   ],
   "source": [
    "bank_accounts = json.loads(bank_data)\n",
    "\n",
    "for account in bank_accounts:\n",
    "    if account[\"isActive\"]:\n",
    "        account[\"balance\"] *= 1.1\n",
    "\n",
    "json.dumps(bank_accounts, indent=4)\n"
   ]
  },
  {
   "cell_type": "markdown",
   "metadata": {},
   "source": [
    "## Task 1.2 (List comprehension)"
   ]
  },
  {
   "cell_type": "code",
   "execution_count": null,
   "metadata": {},
   "outputs": [
    {
     "name": "stdout",
     "output_type": "stream",
     "text": [
      "[165.82500000000002, 500.5, 0.0]\n"
     ]
    }
   ],
   "source": [
    "def increase_bal_10_percent(bank_data):\n",
    "    bank_accounts = json.loads(bank_data)\n",
    "    INTEREST_RATE = 1.1\n",
    "    update_accounts = [\n",
    "        account[\"balance\"] * INTEREST_RATE\n",
    "        if account[\"isActive\"]\n",
    "        else account[\"balance\"]\n",
    "        for account in bank_accounts\n",
    "    ]\n",
    "\n",
    "    return update_accounts\n",
    "\n",
    "    # for account in bank_accounts:\n",
    "    #     if account['isActive']:\n",
    "    #         account['balance'] *= INTEREST_RATE\n",
    "\n",
    "    # return json.dumps(bank_accounts, indent=4)\n",
    "\n",
    "\n",
    "print(increase_bal_10_percent(bank_data))\n"
   ]
  },
  {
   "cell_type": "code",
   "execution_count": null,
   "metadata": {},
   "outputs": [
    {
     "name": "stdout",
     "output_type": "stream",
     "text": [
      "[{'balance': 165.82500000000002},\n",
      " {'balance': 500.5,\n",
      "  'email': 'janesmith@example.com',\n",
      "  'id': 2,\n",
      "  'isActive': False,\n",
      "  'name': 'Jane Smith'},\n",
      " {'balance': 0.0}]\n"
     ]
    }
   ],
   "source": [
    "from pprint import pprint\n",
    "\n",
    "\n",
    "def increase_bal_10_percent(bank_data):\n",
    "    bank_accounts = json.loads(bank_data)\n",
    "    INTEREST_RATE = 1.1\n",
    "    update_accounts = [\n",
    "        {\"balance\": account[\"balance\"] * INTEREST_RATE}\n",
    "        if account[\"isActive\"]\n",
    "        else account\n",
    "        for account in bank_accounts\n",
    "    ]\n",
    "\n",
    "    return update_accounts\n",
    "\n",
    "    # for account in bank_accounts:\n",
    "    #     if account['isActive']:\n",
    "    #         account['balance'] *= INTEREST_RATE\n",
    "\n",
    "    # return json.dumps(bank_accounts, indent=4)\n",
    "\n",
    "\n",
    "pprint(increase_bal_10_percent(bank_data))\n"
   ]
  },
  {
   "cell_type": "code",
   "execution_count": null,
   "metadata": {},
   "outputs": [
    {
     "name": "stdout",
     "output_type": "stream",
     "text": [
      "[\n",
      "    {\n",
      "        \"id\": 1,\n",
      "        \"name\": \"John Doe\",\n",
      "        \"email\": \"johndoe@example.com\",\n",
      "        \"isActive\": true,\n",
      "        \"balance\": 165.82500000000002\n",
      "    },\n",
      "    {\n",
      "        \"id\": 2,\n",
      "        \"name\": \"Jane Smith\",\n",
      "        \"email\": \"janesmith@example.com\",\n",
      "        \"isActive\": false,\n",
      "        \"balance\": 500.5\n",
      "    },\n",
      "    {\n",
      "        \"id\": 3,\n",
      "        \"name\": \"Emily Jones\",\n",
      "        \"email\": \"emilyjones@example.com\",\n",
      "        \"isActive\": true,\n",
      "        \"balance\": 0.0\n",
      "    }\n",
      "]\n"
     ]
    }
   ],
   "source": [
    "from pprint import pprint\n",
    "\n",
    "\n",
    "def increase_bal_10_percent(bank_data):\n",
    "    bank_accounts = json.loads(bank_data)\n",
    "    INTEREST_RATE = 1.1\n",
    "    update_accounts = [\n",
    "        {**account, \"balance\": account[\"balance\"] * INTEREST_RATE}\n",
    "        if account[\"isActive\"]\n",
    "        else account\n",
    "        for account in bank_accounts\n",
    "    ]\n",
    "\n",
    "    return json.dumps(update_accounts, indent=4)\n",
    "\n",
    "\n",
    "print(increase_bal_10_percent(bank_data))\n"
   ]
  },
  {
   "cell_type": "markdown",
   "metadata": {},
   "source": [
    "## Handling Files"
   ]
  },
  {
   "cell_type": "code",
   "execution_count": null,
   "metadata": {},
   "outputs": [],
   "source": [
    "def increase_bal_10_percent(bank_data):\n",
    "    bank_accounts = json.loads(bank_data)\n",
    "    INTEREST_RATE = 1.1\n",
    "    update_accounts = [\n",
    "        {**account, \"balance\": account[\"balance\"] * INTEREST_RATE}\n",
    "        if account[\"isActive\"]\n",
    "        else account\n",
    "        for account in bank_accounts\n",
    "    ]\n",
    "\n",
    "    return update_accounts\n",
    "\n",
    "# Dictionary\n",
    "update_accounts_json = increase_bal_10_percent(bank_data)\n",
    "\n",
    "# with -> close the file\n",
    "with open(\"./bank_accounts.json\", 'w') as file:\n",
    "    #Convert Dict -> JSON & write to file\n",
    "    json.dump(update_accounts_json, file)"
   ]
  },
  {
   "cell_type": "code",
   "execution_count": null,
   "metadata": {},
   "outputs": [
    {
     "name": "stdout",
     "output_type": "stream",
     "text": [
      "[{'balance': 165.82500000000002,\n",
      "  'email': 'johndoe@example.com',\n",
      "  'id': 1,\n",
      "  'isActive': True,\n",
      "  'name': 'John Doe'},\n",
      " {'balance': 500.5,\n",
      "  'email': 'janesmith@example.com',\n",
      "  'id': 2,\n",
      "  'isActive': False,\n",
      "  'name': 'Jane Smith'},\n",
      " {'balance': 0.0,\n",
      "  'email': 'emilyjones@example.com',\n",
      "  'id': 3,\n",
      "  'isActive': True,\n",
      "  'name': 'Emily Jones'}]\n"
     ]
    }
   ],
   "source": [
    "with open(\"./bank_accounts.json\", 'r') as file:\n",
    "    accounts = json.load(file)\n",
    "    pprint(accounts)"
   ]
  },
  {
   "cell_type": "markdown",
   "metadata": {},
   "source": [
    "## Summary\n",
    "Dict -> JSON: dumps (variable), dump (file)\n",
    "JSON -> Dict: loads (variable), load (file)"
   ]
  },
  {
   "cell_type": "markdown",
   "metadata": {},
   "source": [
    "## Task\n",
    "Read the json in blog_post.json and output as below in posts_summary.json"
   ]
  },
  {
   "cell_type": "code",
   "execution_count": null,
   "metadata": {},
   "outputs": [
    {
     "data": {
      "text/plain": [
       "{'posts_summary': [{'title': 'The Future of AI',\n",
       "   'author': 'Alice',\n",
       "   'number_of_comments': 2},\n",
       "  {'title': 'Learning Python', 'author': 'Bob', 'number_of_comments': 1},\n",
       "  {'title': 'Web Development Trends',\n",
       "   'author': 'Charlie',\n",
       "   'number_of_comments': 0}]}"
      ]
     },
     "execution_count": 170,
     "metadata": {},
     "output_type": "execute_result"
    }
   ],
   "source": [
    "## posts_summary.json\n",
    "{\n",
    "    \"posts_summary\": [\n",
    "        {\"title\": \"The Future of AI\", \"author\": \"Alice\", \"number_of_comments\": 2},\n",
    "        {\"title\": \"Learning Python\", \"author\": \"Bob\", \"number_of_comments\": 1},\n",
    "        {\n",
    "            \"title\": \"Web Development Trends\",\n",
    "            \"author\": \"Charlie\",\n",
    "            \"number_of_comments\": 0,\n",
    "        },\n",
    "    ]\n",
    "}"
   ]
  },
  {
   "cell_type": "code",
   "execution_count": null,
   "metadata": {},
   "outputs": [],
   "source": [
    "posts_data = {\n",
    "    \"posts\": [\n",
    "        {\n",
    "            \"title\": \"The Future of AI\",\n",
    "            \"author\": \"Alice\",\n",
    "            \"published_date\": \"2024-01-01\",\n",
    "            \"comments\": [\n",
    "                {\"user\": \"Bob\", \"comment\": \"Great post!\", \"date\": \"2024-01-02\"},\n",
    "                {\n",
    "                    \"user\": \"Charlie\",\n",
    "                    \"comment\": \"Very informative.\",\n",
    "                    \"date\": \"2024-01-03\",\n",
    "                },\n",
    "            ],\n",
    "        },\n",
    "        {\n",
    "            \"title\": \"Learning Python\",\n",
    "            \"author\": \"Bob\",\n",
    "            \"published_date\": \"2024-02-15\",\n",
    "            \"comments\": [\n",
    "                {\n",
    "                    \"user\": \"Alice\",\n",
    "                    \"comment\": \"Thanks for the tips.\",\n",
    "                    \"date\": \"2024-02-16\",\n",
    "                }\n",
    "            ],\n",
    "        },\n",
    "        {\n",
    "            \"title\": \"Web Development Trends\",\n",
    "            \"author\": \"Charlie\",\n",
    "            \"published_date\": \"2024-03-01\",\n",
    "            \"comments\": [],\n",
    "        },\n",
    "    ]\n",
    "}\n"
   ]
  },
  {
   "cell_type": "code",
   "execution_count": null,
   "metadata": {},
   "outputs": [
    {
     "name": "stdout",
     "output_type": "stream",
     "text": [
      "('{\\n'\n",
      " '    \"posts_summary\": [\\n'\n",
      " '        {\\n'\n",
      " '            \"title\": \"The Future of AI\",\\n'\n",
      " '            \"author\": \"Alice\",\\n'\n",
      " '            \"number_of_comments\": 2\\n'\n",
      " '        },\\n'\n",
      " '        {\\n'\n",
      " '            \"title\": \"Learning Python\",\\n'\n",
      " '            \"author\": \"Bob\",\\n'\n",
      " '            \"number_of_comments\": 1\\n'\n",
      " '        },\\n'\n",
      " '        {\\n'\n",
      " '            \"title\": \"Web Development Trends\",\\n'\n",
      " '            \"author\": \"Charlie\",\\n'\n",
      " '            \"number_of_comments\": 0\\n'\n",
      " '        }\\n'\n",
      " '    ]\\n'\n",
      " '}')\n"
     ]
    },
    {
     "ename": "",
     "evalue": "",
     "output_type": "error",
     "traceback": [
      "\u001b[1;31mThe Kernel crashed while executing code in the current cell or a previous cell. \n",
      "\u001b[1;31mPlease review the code in the cell(s) to identify a possible cause of the failure. \n",
      "\u001b[1;31mClick <a href='https://aka.ms/vscodeJupyterKernelCrash'>here</a> for more info. \n",
      "\u001b[1;31mView Jupyter <a href='command:jupyter.viewOutput'>log</a> for further details."
     ]
    }
   ],
   "source": [
    "with open(\"./blog_post.json\", \"r\") as file:\n",
    "    # Convert JSON -> Dict\n",
    "    blog = json.load(file)\n",
    "    posts = blog[\"posts\"]\n",
    "\n",
    "    output = [{\"title\": post[\"title\"], \"author\": post['author'],\n",
    "              \"number_of_comments\": len(post['comments'])} for post in posts]\n",
    "    summary_data = {\n",
    "        \"posts_summary\": posts_summary}\n",
    "\n",
    "    # Convert the summary data to JSON format (pretty-print it)\n",
    "    output_json = json.dumps(summary_data, indent=4)\n",
    "\n",
    "    # Print the final output (formatted nicely with pprint)\n",
    "    pprint(output_json)\n"
   ]
  }
 ],
 "metadata": {
  "kernelspec": {
   "display_name": ".venv",
   "language": "python",
   "name": "python3"
  },
  "language_info": {
   "codemirror_mode": {
    "name": "ipython",
    "version": 3
   },
   "file_extension": ".py",
   "mimetype": "text/x-python",
   "name": "python",
   "nbconvert_exporter": "python",
   "pygments_lexer": "ipython3",
   "version": "3.11.8"
  }
 },
 "nbformat": 4,
 "nbformat_minor": 2
}
