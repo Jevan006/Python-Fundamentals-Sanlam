{
 "cells": [
  {
   "cell_type": "markdown",
   "metadata": {},
   "source": [
    "## Task 1.1"
   ]
  },
  {
   "cell_type": "code",
   "execution_count": null,
   "metadata": {},
   "outputs": [],
   "source": [
    "## Please provide the list of book titles\n",
    "\n",
    "books = [\n",
    "    {\"title\": \"Infinite Jest\", \"rating\": 4.5, \"genre\": \"Fiction\"},\n",
    "    {\"title\": \"The Catcher in the Rye\", \"rating\": 3.9, \"genre\": \"Fiction\"},\n",
    "    {\"title\": \"Sapiens\", \"rating\": 4.9, \"genre\": \"History\"},\n",
    "    {\"title\": \"A Brief History of Time\", \"rating\": 4.8, \"genre\": \"Science\"},\n",
    "    {\"title\": \"Clean Code\", \"rating\": 4.7, \"genre\": \"Technology\"},\n",
    "]\n",
    "## Expected Output\n",
    "[\"Infinite Jest\",  \"The Catcher in the Rye\", \"Sapiens\",  \"A Brief History of Time\",  \"Clean Code\"]"
   ]
  },
  {
   "cell_type": "code",
   "execution_count": 4,
   "metadata": {},
   "outputs": [
    {
     "name": "stdout",
     "output_type": "stream",
     "text": [
      "['Infinite Jest', 'The Catcher in the Rye', 'Sapiens', 'A Brief History of Time', 'Clean Code']\n"
     ]
    }
   ],
   "source": [
    "books = [\n",
    "    {\"title\": \"Infinite Jest\", \"rating\": 4.5, \"genre\": \"Fiction\"},\n",
    "    {\"title\": \"The Catcher in the Rye\", \"rating\": 3.9, \"genre\": \"Fiction\"},\n",
    "    {\"title\": \"Sapiens\", \"rating\": 4.9, \"genre\": \"History\"},\n",
    "    {\"title\": \"A Brief History of Time\", \"rating\": 4.8, \"genre\": \"Science\"},\n",
    "    {\"title\": \"Clean Code\", \"rating\": 4.7, \"genre\": \"Technology\"},\n",
    "]\n",
    "book_title = []\n",
    "for book in books:\n",
    "    book_title.append(book[\"title\"])\n",
    "\n",
    "print(book_title)"
   ]
  },
  {
   "cell_type": "markdown",
   "metadata": {},
   "source": [
    "## Task 1.2\n",
    "\n",
    "# Please provide the only Fiction books\n",
    "\n",
    "# Expected Output\n",
    "[\"Infinite Jest\",  \"The Catcher in the Rye\"]"
   ]
  },
  {
   "cell_type": "code",
   "execution_count": null,
   "metadata": {},
   "outputs": [
    {
     "name": "stdout",
     "output_type": "stream",
     "text": [
      "['n', 'h', 'a', ' ', 'l']\n"
     ]
    }
   ],
   "source": [
    "# List of books\n",
    "books = [\n",
    "    {\"title\": \"Infinite Jest\", \"rating\": 4.5, \"genre\": \"Fiction\"},\n",
    "    {\"title\": \"The Catcher in the Rye\", \"rating\": 3.9, \"genre\": \"Fiction\"},\n",
    "    {\"title\": \"Sapiens\", \"rating\": 4.9, \"genre\": \"History\"},\n",
    "    {\"title\": \"A Brief History of Time\", \"rating\": 4.8, \"genre\": \"Science\"},\n",
    "    {\"title\": \"Clean Code\", \"rating\": 4.7, \"genre\": \"Technology\"},\n",
    "]\n",
    "\n",
    "# Extract Fiction books\n",
    "fiction_books = []\n",
    "for book in books:\n",
    "    if book[\"genre\"] == \"Fiction\":\n",
    "        fiction_books.append(book[\"title\"])\n",
    "\n",
    "print(fiction_books)\n"
   ]
  },
  {
   "cell_type": "markdown",
   "metadata": {},
   "source": [
    "## Task 1.3\n",
    "# Please provide Highest rated books (>= 4.7)\n",
    "\n",
    "# Expected Output\n",
    "Highest rated books are: Sapiens, A Brief History of Time and Clean Code "
   ]
  }
 ],
 "metadata": {
  "kernelspec": {
   "display_name": ".venv",
   "language": "python",
   "name": "python3"
  },
  "language_info": {
   "codemirror_mode": {
    "name": "ipython",
    "version": 3
   },
   "file_extension": ".py",
   "mimetype": "text/x-python",
   "name": "python",
   "nbconvert_exporter": "python",
   "pygments_lexer": "ipython3",
   "version": "3.11.8"
  }
 },
 "nbformat": 4,
 "nbformat_minor": 2
}
