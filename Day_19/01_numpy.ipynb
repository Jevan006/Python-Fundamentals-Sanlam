{
 "cells": [
  {
   "cell_type": "markdown",
   "metadata": {},
   "source": [
    "## Data Analyst\n",
    "- Insights - Charts\n",
    "- SQL\n",
    "- Power Bi - Charts\n",
    "- One shot Query\n",
    "\n",
    "\n",
    "## Data Scientists\n",
    "- Excel\n",
    "- Python - nupy, pandas\n",
    "- Scale - Millions of rows\n",
    "- Scikit - data prediction\n",
    "- Matplot, seabord - Charts - (Rapid prototyping)\n",
    "- Line by line (step)"
   ]
  },
  {
   "cell_type": "code",
   "execution_count": 8,
   "metadata": {},
   "outputs": [],
   "source": [
    "import numpy as np"
   ]
  },
  {
   "cell_type": "code",
   "execution_count": null,
   "metadata": {},
   "outputs": [],
   "source": [
    "marks1 = [90, 80, 20, 40]\n",
    "print(marks1 * 2)"
   ]
  },
  {
   "cell_type": "code",
   "execution_count": null,
   "metadata": {},
   "outputs": [],
   "source": [
    "mark2 = np.array([90, 80, 20, 40])\n",
    "print(mark2 * 2)"
   ]
  },
  {
   "cell_type": "markdown",
   "metadata": {},
   "source": [
    "## Python way to double the list"
   ]
  },
  {
   "cell_type": "code",
   "execution_count": null,
   "metadata": {},
   "outputs": [],
   "source": [
    "marks_dbl = [mark * 2 for mark in marks1]\n",
    "marks_dbl"
   ]
  },
  {
   "cell_type": "code",
   "execution_count": null,
   "metadata": {},
   "outputs": [],
   "source": [
    "np.ones(10)"
   ]
  },
  {
   "cell_type": "code",
   "execution_count": null,
   "metadata": {},
   "outputs": [],
   "source": [
    "fives = np.ones(20) * 5\n",
    "fives\n"
   ]
  },
  {
   "cell_type": "code",
   "execution_count": null,
   "metadata": {},
   "outputs": [],
   "source": [
    "np.arange(1,11) < 5"
   ]
  },
  {
   "cell_type": "code",
   "execution_count": null,
   "metadata": {},
   "outputs": [],
   "source": [
    "np.array([1, 11]) - np.array([1, 11])\n"
   ]
  },
  {
   "cell_type": "markdown",
   "metadata": {},
   "source": [
    "# Task 1.1\n",
    "# 1-200 only even numbers | With skip of arange\n"
   ]
  },
  {
   "cell_type": "code",
   "execution_count": null,
   "metadata": {},
   "outputs": [],
   "source": [
    "np.arange(0, 201, 2)"
   ]
  },
  {
   "cell_type": "markdown",
   "metadata": {},
   "source": [
    "# Task 1.2\n",
    "# 1-200 only even numbers | Dont use skip of arange"
   ]
  },
  {
   "cell_type": "code",
   "execution_count": null,
   "metadata": {},
   "outputs": [],
   "source": [
    "np.arange(0, 201, 2)\n"
   ]
  },
  {
   "cell_type": "markdown",
   "metadata": {},
   "source": [
    "## Statistical oriented - mean, mode, median, std\n",
    "- mean -> average\n",
    "- mode -> the most repeated number (most popular)\n",
    "- median -> middle number when in ascending order"
   ]
  },
  {
   "cell_type": "code",
   "execution_count": 9,
   "metadata": {},
   "outputs": [
    {
     "name": "stdout",
     "output_type": "stream",
     "text": [
      "[96 42 78 98 78 67 63 91 40 63]\n",
      "71.6\n"
     ]
    }
   ],
   "source": [
    "marks = np.random.randint(40, 100, 10)\n",
    "print(marks)\n",
    "print(marks.mean())\n"
   ]
  },
  {
   "cell_type": "code",
   "execution_count": null,
   "metadata": {},
   "outputs": [
    {
     "data": {
      "text/plain": [
       "np.float64(1628.894626777442)"
      ]
     },
     "execution_count": 17,
     "metadata": {},
     "output_type": "execute_result"
    }
   ],
   "source": [
    "import numpy as np\n",
    "\n",
    "##### Task 1\n",
    "## At the every year tell me balance for 10 years\n",
    "## Clue: General formula\n",
    "## 1102.5 -> 1000 +\n",
    "## [1050, 1102.5 ...., ]\n",
    "\n",
    "Investment = 1_000\n",
    "interest_rate = 1.05\n",
    "n = 1\n",
    "num_years =np.arange(1,11)\n",
    "\n",
    "balance_over_years = Investment * interest_rate ** num_years\n",
    "balance_over_years\n"
   ]
  },
  {
   "cell_type": "code",
   "execution_count": 18,
   "metadata": {},
   "outputs": [
    {
     "data": {
      "text/plain": [
       "np.float64(1628.894626777442)"
      ]
     },
     "execution_count": 18,
     "metadata": {},
     "output_type": "execute_result"
    }
   ],
   "source": [
    "# Task 2: Balance at the end of year 10\n",
    "balance_over_years[9]"
   ]
  },
  {
   "cell_type": "code",
   "execution_count": 19,
   "metadata": {},
   "outputs": [
    {
     "name": "stdout",
     "output_type": "stream",
     "text": [
      "62.8894626777442\n"
     ]
    }
   ],
   "source": [
    "# Task 3: Percentage increase compared to the first year\n",
    "\n",
    "current_balance = balance_over_years[-1]\n",
    "profit = (current_balance - Investment) / Investment\n",
    "print(profit * 100)"
   ]
  },
  {
   "cell_type": "markdown",
   "metadata": {},
   "source": []
  },
  {
   "cell_type": "code",
   "execution_count": 26,
   "metadata": {},
   "outputs": [
    {
     "data": {
      "text/plain": [
       "array([2, 2, 3, 3, 2, 1, 2, 1, 2, 2], dtype=int32)"
      ]
     },
     "execution_count": 26,
     "metadata": {},
     "output_type": "execute_result"
    }
   ],
   "source": [
    "nums = np.random.randint(1, 4, 10)\n",
    "nums"
   ]
  },
  {
   "cell_type": "code",
   "execution_count": 27,
   "metadata": {},
   "outputs": [
    {
     "data": {
      "text/plain": [
       "array([1, 2, 3], dtype=int32)"
      ]
     },
     "execution_count": 27,
     "metadata": {},
     "output_type": "execute_result"
    }
   ],
   "source": [
    "unique_nums = np.unique(nums)\n",
    "unique_nums"
   ]
  },
  {
   "cell_type": "markdown",
   "metadata": {},
   "source": [
    "## Task 1\n",
    " \n",
    "hourly_visitors = [468, 279,  73, 272 ,406 ,128 ,302 ,216, 140, 82]\n",
    " \n",
    "- 1.1 Total visitors in the day?\n",
    "- 1.2 Which is the peak hour?\n",
    "- 1.3 On average how many people visit per hour\n",
    " \n",
    "### Output\n",
    "```\n",
    "Total visitors in the day: 2366\n",
    "Peak hour: 1\n",
    "Average people visit: 237\n",
    "```"
   ]
  },
  {
   "cell_type": "code",
   "execution_count": 32,
   "metadata": {},
   "outputs": [
    {
     "name": "stdout",
     "output_type": "stream",
     "text": [
      " Total visitors in the day: 2366\n"
     ]
    }
   ],
   "source": [
    "# Task 1.1\n",
    "\n",
    "hourly_visitors = [468, 279,  73, 272 ,406 ,128 ,302 ,216, 140, 82]\n",
    "total_visits = sum(hourly_visitors)\n",
    "print(f\" Total visitors in the day: {total_visits}\")"
   ]
  },
  {
   "cell_type": "code",
   "execution_count": 33,
   "metadata": {},
   "outputs": [
    {
     "name": "stdout",
     "output_type": "stream",
     "text": [
      "Peak hour: 1\n"
     ]
    }
   ],
   "source": [
    "# Task 1.2\n",
    "from statistics import mode\n",
    "\n",
    "\n",
    "peak_hour = mode(hourly_visitors)\n",
    "print (f\"Peak hour: {np.argmax(hourly_visitors) + 1}\")"
   ]
  },
  {
   "cell_type": "code",
   "execution_count": 34,
   "metadata": {},
   "outputs": [
    {
     "name": "stdout",
     "output_type": "stream",
     "text": [
      "Average people visit: 237\n"
     ]
    }
   ],
   "source": [
    "# Task 1.3\n",
    "print(f\"Average people visit: {round(np.mean(hourly_visitors))}\")"
   ]
  },
  {
   "cell_type": "code",
   "execution_count": 36,
   "metadata": {},
   "outputs": [
    {
     "data": {
      "text/plain": [
       "array(['Hello', 'World', 'Numpy'], dtype='<U5')"
      ]
     },
     "execution_count": 36,
     "metadata": {},
     "output_type": "execute_result"
    }
   ],
   "source": [
    "words = np.array([\"hello\", \"world\", \"numpy\"])\n",
    "np. char.upper(words)\n",
    "np. char.capitalize(words)"
   ]
  },
  {
   "cell_type": "markdown",
   "metadata": {},
   "source": [
    "## Task 2\n",
    "Normalize the Array:\n",
    " \n",
    "- 2.1 Trim leading and trailing spaces.\n",
    "- 2.2 Convert all items to lowercase.\n",
    "- 2.3 Ensure there are no duplicate items in the array.\n",
    " "
   ]
  },
  {
   "cell_type": "code",
   "execution_count": 43,
   "metadata": {},
   "outputs": [
    {
     "data": {
      "text/plain": [
       "array(['apple', 'banana', 'blueberry', 'cucumber', 'grape', 'kiwi',\n",
       "       'lemon', 'mango', 'orange', 'pineapple', 'raspberry', 'tomato'],\n",
       "      dtype='<U9')"
      ]
     },
     "execution_count": 43,
     "metadata": {},
     "output_type": "execute_result"
    }
   ],
   "source": [
    "import numpy as np\n",
    "\n",
    "# Given array\n",
    "items = np.array([' Apple', 'banana ', 'GRAPE', 'cucumber', 'Pineapple', ' tomato ', 'Orange', ' lemon', 'Kiwi ', 'mango', 'blueberry ', ' raspberry'])\n",
    "normalized_items = np.unique([item.strip().lower() for item in items])\n",
    "normalized_items"
   ]
  },
  {
   "cell_type": "markdown",
   "metadata": {},
   "source": [
    "## Task 3 (Challenging)\n",
    "Filtering Operations:\n",
    "- 3.1 Find and display all items that start with the letter 'b'.\n",
    "- 3.2 Find and display all items that contain the letter 'e' exactly once."
   ]
  },
  {
   "cell_type": "code",
   "execution_count": 47,
   "metadata": {},
   "outputs": [
    {
     "name": "stdout",
     "output_type": "stream",
     "text": [
      "Words that starts with b: ['banana ' 'blueberry ']\n"
     ]
    }
   ],
   "source": [
    "items = np.array([' Apple', 'banana ', 'GRAPE', 'cucumber', 'Pineapple', ' tomato ', 'Orange', ' lemon', 'Kiwi ', 'mango', 'blueberry ', ' raspberry'])\n",
    "starts_b = items[np.char.startswith(items, 'b')]\n",
    "print(f\"Words that starts with b:\", starts_b)"
   ]
  },
  {
   "cell_type": "code",
   "execution_count": 51,
   "metadata": {},
   "outputs": [
    {
     "name": "stdout",
     "output_type": "stream",
     "text": [
      "Words that contatins 'e' once: [' Apple' 'cucumber' 'Orange' ' lemon' ' raspberry']\n"
     ]
    }
   ],
   "source": [
    "display_e = items[np.char.count(items, 'e') == 1]\n",
    "print(f\"Words that contatins 'e' once:\", display_e)"
   ]
  },
  {
   "cell_type": "markdown",
   "metadata": {},
   "source": [
    "## 2D Matrix / Arrays\n"
   ]
  },
  {
   "cell_type": "code",
   "execution_count": 52,
   "metadata": {},
   "outputs": [],
   "source": [
    "num_3x3 = np.array([[1, 3, 4],\n",
    "                    [6, 10, 77],\n",
    "                    [9, 20, 24]\n",
    "])"
   ]
  },
  {
   "cell_type": "code",
   "execution_count": 55,
   "metadata": {},
   "outputs": [
    {
     "data": {
      "text/plain": [
       "array([[ 1,  3,  4],\n",
       "       [ 6, 10, 77],\n",
       "       [ 9, 20, 24]])"
      ]
     },
     "execution_count": 55,
     "metadata": {},
     "output_type": "execute_result"
    }
   ],
   "source": [
    "num_3x3\n"
   ]
  },
  {
   "cell_type": "code",
   "execution_count": 56,
   "metadata": {},
   "outputs": [
    {
     "data": {
      "text/plain": [
       "array([[  2,   6,   8],\n",
       "       [ 12,  20, 154],\n",
       "       [ 18,  40,  48]])"
      ]
     },
     "execution_count": 56,
     "metadata": {},
     "output_type": "execute_result"
    }
   ],
   "source": [
    "num_3x3 * 2"
   ]
  }
 ],
 "metadata": {
  "kernelspec": {
   "display_name": ".venv",
   "language": "python",
   "name": "python3"
  },
  "language_info": {
   "codemirror_mode": {
    "name": "ipython",
    "version": 3
   },
   "file_extension": ".py",
   "mimetype": "text/x-python",
   "name": "python",
   "nbconvert_exporter": "python",
   "pygments_lexer": "ipython3",
   "version": "3.11.8"
  }
 },
 "nbformat": 4,
 "nbformat_minor": 2
}
